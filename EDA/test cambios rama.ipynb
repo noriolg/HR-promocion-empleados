{
 "cells": [
  {
   "cell_type": "markdown",
   "id": "19e98e55",
   "metadata": {},
   "source": [
    "Probando cambios de rama"
   ]
  },
  {
   "cell_type": "code",
   "execution_count": 1,
   "id": "e31a6736",
   "metadata": {},
   "outputs": [],
   "source": [
    "b = 5"
   ]
  },
  {
   "cell_type": "code",
   "execution_count": 2,
   "id": "6ec63350",
   "metadata": {},
   "outputs": [
    {
     "data": {
      "text/plain": [
       "6"
      ]
     },
     "execution_count": 2,
     "metadata": {},
     "output_type": "execute_result"
    }
   ],
   "source": [
    "a + 4"
   ]
  },
  {
   "cell_type": "code",
   "execution_count": 3,
   "id": "9944cef8",
   "metadata": {},
   "outputs": [],
   "source": [
    "b = 1"
   ]
  },
  {
   "cell_type": "code",
   "execution_count": null,
   "id": "fe425c29",
   "metadata": {},
   "outputs": [],
   "source": []
  }
 ],
 "metadata": {
  "kernelspec": {
   "display_name": "Python 3",
   "language": "python",
   "name": "python3"
  },
  "language_info": {
   "codemirror_mode": {
    "name": "ipython",
    "version": 3
   },
   "file_extension": ".py",
   "mimetype": "text/x-python",
   "name": "python",
   "nbconvert_exporter": "python",
   "pygments_lexer": "ipython3",
   "version": "3.8.8"
  }
 },
 "nbformat": 4,
 "nbformat_minor": 5
}
