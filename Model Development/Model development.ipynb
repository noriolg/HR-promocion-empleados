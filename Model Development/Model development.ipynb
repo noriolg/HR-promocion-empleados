{
 "cells": [
  {
   "cell_type": "code",
   "execution_count": 1,
   "id": "4e6ff2b1",
   "metadata": {},
   "outputs": [],
   "source": [
    "import pandas as pd\n",
    "import numpy as np\n",
    "import plotly.graph_objects as go\n",
    "\n",
    "from sklearn.model_selection import train_test_split\n",
    "from sklearn.decomposition import PCA\n",
    "from sklearn.impute import SimpleImputer"
   ]
  },
  {
   "cell_type": "code",
   "execution_count": 2,
   "id": "5ee444e8",
   "metadata": {},
   "outputs": [
    {
     "data": {
      "text/html": [
       "<div>\n",
       "<style scoped>\n",
       "    .dataframe tbody tr th:only-of-type {\n",
       "        vertical-align: middle;\n",
       "    }\n",
       "\n",
       "    .dataframe tbody tr th {\n",
       "        vertical-align: top;\n",
       "    }\n",
       "\n",
       "    .dataframe thead th {\n",
       "        text-align: right;\n",
       "    }\n",
       "</style>\n",
       "<table border=\"1\" class=\"dataframe\">\n",
       "  <thead>\n",
       "    <tr style=\"text-align: right;\">\n",
       "      <th></th>\n",
       "      <th>employee_id</th>\n",
       "      <th>department</th>\n",
       "      <th>region</th>\n",
       "      <th>education</th>\n",
       "      <th>gender</th>\n",
       "      <th>recruitment_channel</th>\n",
       "      <th>no_of_trainings</th>\n",
       "      <th>age</th>\n",
       "      <th>previous_year_rating</th>\n",
       "      <th>length_of_service</th>\n",
       "      <th>awards_won</th>\n",
       "      <th>avg_training_score</th>\n",
       "      <th>is_promoted</th>\n",
       "    </tr>\n",
       "  </thead>\n",
       "  <tbody>\n",
       "    <tr>\n",
       "      <th>0</th>\n",
       "      <td>65438</td>\n",
       "      <td>Sales &amp; Marketing</td>\n",
       "      <td>region_7</td>\n",
       "      <td>Master's &amp; above</td>\n",
       "      <td>f</td>\n",
       "      <td>sourcing</td>\n",
       "      <td>1</td>\n",
       "      <td>35</td>\n",
       "      <td>5.0</td>\n",
       "      <td>8</td>\n",
       "      <td>0</td>\n",
       "      <td>49.0</td>\n",
       "      <td>0</td>\n",
       "    </tr>\n",
       "    <tr>\n",
       "      <th>1</th>\n",
       "      <td>65141</td>\n",
       "      <td>Operations</td>\n",
       "      <td>region_22</td>\n",
       "      <td>Bachelor's</td>\n",
       "      <td>m</td>\n",
       "      <td>other</td>\n",
       "      <td>1</td>\n",
       "      <td>30</td>\n",
       "      <td>5.0</td>\n",
       "      <td>4</td>\n",
       "      <td>0</td>\n",
       "      <td>60.0</td>\n",
       "      <td>0</td>\n",
       "    </tr>\n",
       "    <tr>\n",
       "      <th>2</th>\n",
       "      <td>7513</td>\n",
       "      <td>Sales &amp; Marketing</td>\n",
       "      <td>region_19</td>\n",
       "      <td>Bachelor's</td>\n",
       "      <td>m</td>\n",
       "      <td>sourcing</td>\n",
       "      <td>1</td>\n",
       "      <td>34</td>\n",
       "      <td>3.0</td>\n",
       "      <td>7</td>\n",
       "      <td>0</td>\n",
       "      <td>50.0</td>\n",
       "      <td>0</td>\n",
       "    </tr>\n",
       "  </tbody>\n",
       "</table>\n",
       "</div>"
      ],
      "text/plain": [
       "   employee_id         department     region         education gender  \\\n",
       "0        65438  Sales & Marketing   region_7  Master's & above      f   \n",
       "1        65141         Operations  region_22        Bachelor's      m   \n",
       "2         7513  Sales & Marketing  region_19        Bachelor's      m   \n",
       "\n",
       "  recruitment_channel  no_of_trainings  age  previous_year_rating  \\\n",
       "0            sourcing                1   35                   5.0   \n",
       "1               other                1   30                   5.0   \n",
       "2            sourcing                1   34                   3.0   \n",
       "\n",
       "   length_of_service  awards_won  avg_training_score  is_promoted  \n",
       "0                  8           0                49.0            0  \n",
       "1                  4           0                60.0            0  \n",
       "2                  7           0                50.0            0  "
      ]
     },
     "execution_count": 2,
     "metadata": {},
     "output_type": "execute_result"
    }
   ],
   "source": [
    "df = pd.read_csv('../data/trabajo1.csv')\n",
    "df.head(3)"
   ]
  },
  {
   "cell_type": "code",
   "execution_count": 29,
   "id": "701301b7",
   "metadata": {},
   "outputs": [],
   "source": [
    "target = df[\"is_promoted\"]\n",
    "df_data = df.copy()\n",
    "df_data.drop(columns = [\"is_promoted\", \"employee_id\"], inplace = True);"
   ]
  },
  {
   "cell_type": "code",
   "execution_count": 30,
   "id": "570508f4",
   "metadata": {},
   "outputs": [
    {
     "data": {
      "text/plain": [
       "11"
      ]
     },
     "execution_count": 30,
     "metadata": {},
     "output_type": "execute_result"
    }
   ],
   "source": [
    "df_data.shape[1]"
   ]
  },
  {
   "cell_type": "code",
   "execution_count": 31,
   "id": "873a25a1",
   "metadata": {},
   "outputs": [
    {
     "data": {
      "text/plain": [
       "13"
      ]
     },
     "execution_count": 31,
     "metadata": {},
     "output_type": "execute_result"
    }
   ],
   "source": [
    "df.shape[1]"
   ]
  },
  {
   "cell_type": "markdown",
   "id": "0de2074e",
   "metadata": {},
   "source": [
    "**Proporción de promociones**"
   ]
  },
  {
   "cell_type": "code",
   "execution_count": 35,
   "id": "4e2ccbba",
   "metadata": {},
   "outputs": [
    {
     "data": {
      "text/plain": [
       "0    0.91483\n",
       "1    0.08517\n",
       "Name: is_promoted, dtype: float64"
      ]
     },
     "execution_count": 35,
     "metadata": {},
     "output_type": "execute_result"
    }
   ],
   "source": [
    "target.value_counts(normalize = True)"
   ]
  },
  {
   "cell_type": "markdown",
   "id": "2afdb391",
   "metadata": {},
   "source": [
    "No está balanceada. Para ver errores, utilizaremos esta función:"
   ]
  },
  {
   "cell_type": "markdown",
   "id": "11156823",
   "metadata": {},
   "source": [
    "$$ error(y, y_{est}) = \\beta * (false positives) + (false negatives) $$"
   ]
  },
  {
   "cell_type": "markdown",
   "id": "67703112",
   "metadata": {},
   "source": [
    "Nos importan $\\beta$ veces más los falsos positivos que los falsos negativos. Es decir, predecir que alguien promociona cuando en realidad NO promociona lo consideramos peor que predecir que alguien NO promociona cuando en realidad va a promocionar."
   ]
  },
  {
   "cell_type": "markdown",
   "id": "30eaa234",
   "metadata": {},
   "source": [
    "**Encoding variables**"
   ]
  },
  {
   "cell_type": "code",
   "execution_count": 37,
   "id": "dc4aa558",
   "metadata": {},
   "outputs": [],
   "source": [
    " from sklearn import preprocessing"
   ]
  },
  {
   "cell_type": "markdown",
   "id": "42793d0a",
   "metadata": {},
   "source": [
    "Department"
   ]
  },
  {
   "cell_type": "code",
   "execution_count": 42,
   "id": "e621440a",
   "metadata": {},
   "outputs": [],
   "source": [
    "le = preprocessing.LabelEncoder()\n",
    "le.fit(df['department'])\n",
    "department_encoded = le.transform(df['department'])"
   ]
  },
  {
   "cell_type": "code",
   "execution_count": 43,
   "id": "911e70ea",
   "metadata": {},
   "outputs": [
    {
     "data": {
      "text/plain": [
       "array([7, 4, 7, ..., 0, 7, 2])"
      ]
     },
     "execution_count": 43,
     "metadata": {},
     "output_type": "execute_result"
    }
   ],
   "source": [
    "department_encoded"
   ]
  },
  {
   "cell_type": "code",
   "execution_count": null,
   "id": "5dd2a813",
   "metadata": {},
   "outputs": [],
   "source": [
    "def encodeCategoricalVariable(variable_to_encode):\n",
    "    '''\n",
    "    Encodes a variable from the main df and returns an array with the encoded variables.\n",
    "\n",
    "            Parameters:\n",
    "                    variable_to_encode (string): name of the column from main df to encode\n",
    "\n",
    "            Returns:\n",
    "                    encoded_variable (array): array with numerical values from encoded column\n",
    "    '''\n",
    "    le = preprocessing.LabelEncoder() # Creamos un label encoder\n",
    "    le.fit(df[variable_to_encode]) \n",
    "    department_encoded = le.transform(df[variable_to_encode])\n",
    "    \n"
   ]
  },
  {
   "cell_type": "markdown",
   "id": "7d87be79",
   "metadata": {},
   "source": [
    "**Separación en test/train**"
   ]
  },
  {
   "cell_type": "code",
   "execution_count": 33,
   "id": "5a899305",
   "metadata": {},
   "outputs": [],
   "source": [
    "X_train, X_test, y_train, y_test = train_test_split(df_data,target,test_size = 0.33,random_state = 123) # Random state es para repetir siempre el mismo resultado"
   ]
  },
  {
   "cell_type": "code",
   "execution_count": 36,
   "id": "386909a4",
   "metadata": {},
   "outputs": [
    {
     "data": {
      "text/plain": [
       "employee_id                0\n",
       "department                 0\n",
       "region                     0\n",
       "education               2409\n",
       "gender                     0\n",
       "recruitment_channel        0\n",
       "no_of_trainings            0\n",
       "age                        0\n",
       "previous_year_rating    4124\n",
       "length_of_service          0\n",
       "awards_won                 0\n",
       "avg_training_score      2560\n",
       "is_promoted                0\n",
       "dtype: int64"
      ]
     },
     "execution_count": 36,
     "metadata": {},
     "output_type": "execute_result"
    }
   ],
   "source": [
    "df.isna().sum()"
   ]
  },
  {
   "cell_type": "code",
   "execution_count": null,
   "id": "50f1b413",
   "metadata": {},
   "outputs": [],
   "source": []
  }
 ],
 "metadata": {
  "kernelspec": {
   "display_name": "Python 3 (ipykernel)",
   "language": "python",
   "name": "python3"
  },
  "language_info": {
   "codemirror_mode": {
    "name": "ipython",
    "version": 3
   },
   "file_extension": ".py",
   "mimetype": "text/x-python",
   "name": "python",
   "nbconvert_exporter": "python",
   "pygments_lexer": "ipython3",
   "version": "3.7.8rc1"
  }
 },
 "nbformat": 4,
 "nbformat_minor": 5
}
