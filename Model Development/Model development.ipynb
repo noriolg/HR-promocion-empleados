{
 "cells": [
  {
   "cell_type": "code",
   "execution_count": 2,
   "id": "4e6ff2b1",
   "metadata": {},
   "outputs": [],
   "source": [
    "import pandas as pd\n",
    "import numpy as np\n",
    "import plotly.graph_objects as go\n",
    "\n",
    "from sklearn.model_selection import train_test_split\n",
    "from sklearn.decomposition import PCA\n",
    "from sklearn.impute import SimpleImputer"
   ]
  },
  {
   "cell_type": "code",
   "execution_count": 59,
   "id": "5ee444e8",
   "metadata": {},
   "outputs": [
    {
     "data": {
      "text/html": [
       "<div>\n",
       "<style scoped>\n",
       "    .dataframe tbody tr th:only-of-type {\n",
       "        vertical-align: middle;\n",
       "    }\n",
       "\n",
       "    .dataframe tbody tr th {\n",
       "        vertical-align: top;\n",
       "    }\n",
       "\n",
       "    .dataframe thead th {\n",
       "        text-align: right;\n",
       "    }\n",
       "</style>\n",
       "<table border=\"1\" class=\"dataframe\">\n",
       "  <thead>\n",
       "    <tr style=\"text-align: right;\">\n",
       "      <th></th>\n",
       "      <th>employee_id</th>\n",
       "      <th>department</th>\n",
       "      <th>region</th>\n",
       "      <th>education</th>\n",
       "      <th>gender</th>\n",
       "      <th>recruitment_channel</th>\n",
       "      <th>no_of_trainings</th>\n",
       "      <th>age</th>\n",
       "      <th>previous_year_rating</th>\n",
       "      <th>length_of_service</th>\n",
       "      <th>awards_won</th>\n",
       "      <th>avg_training_score</th>\n",
       "      <th>is_promoted</th>\n",
       "    </tr>\n",
       "  </thead>\n",
       "  <tbody>\n",
       "    <tr>\n",
       "      <th>0</th>\n",
       "      <td>65438</td>\n",
       "      <td>Sales &amp; Marketing</td>\n",
       "      <td>region_7</td>\n",
       "      <td>Master's &amp; above</td>\n",
       "      <td>f</td>\n",
       "      <td>sourcing</td>\n",
       "      <td>1</td>\n",
       "      <td>35</td>\n",
       "      <td>5.0</td>\n",
       "      <td>8</td>\n",
       "      <td>0</td>\n",
       "      <td>49.0</td>\n",
       "      <td>0</td>\n",
       "    </tr>\n",
       "    <tr>\n",
       "      <th>1</th>\n",
       "      <td>65141</td>\n",
       "      <td>Operations</td>\n",
       "      <td>region_22</td>\n",
       "      <td>Bachelor's</td>\n",
       "      <td>m</td>\n",
       "      <td>other</td>\n",
       "      <td>1</td>\n",
       "      <td>30</td>\n",
       "      <td>5.0</td>\n",
       "      <td>4</td>\n",
       "      <td>0</td>\n",
       "      <td>60.0</td>\n",
       "      <td>0</td>\n",
       "    </tr>\n",
       "    <tr>\n",
       "      <th>2</th>\n",
       "      <td>7513</td>\n",
       "      <td>Sales &amp; Marketing</td>\n",
       "      <td>region_19</td>\n",
       "      <td>Bachelor's</td>\n",
       "      <td>m</td>\n",
       "      <td>sourcing</td>\n",
       "      <td>1</td>\n",
       "      <td>34</td>\n",
       "      <td>3.0</td>\n",
       "      <td>7</td>\n",
       "      <td>0</td>\n",
       "      <td>50.0</td>\n",
       "      <td>0</td>\n",
       "    </tr>\n",
       "  </tbody>\n",
       "</table>\n",
       "</div>"
      ],
      "text/plain": [
       "   employee_id         department     region         education gender  \\\n",
       "0        65438  Sales & Marketing   region_7  Master's & above      f   \n",
       "1        65141         Operations  region_22        Bachelor's      m   \n",
       "2         7513  Sales & Marketing  region_19        Bachelor's      m   \n",
       "\n",
       "  recruitment_channel  no_of_trainings  age  previous_year_rating  \\\n",
       "0            sourcing                1   35                   5.0   \n",
       "1               other                1   30                   5.0   \n",
       "2            sourcing                1   34                   3.0   \n",
       "\n",
       "   length_of_service  awards_won  avg_training_score  is_promoted  \n",
       "0                  8           0                49.0            0  \n",
       "1                  4           0                60.0            0  \n",
       "2                  7           0                50.0            0  "
      ]
     },
     "execution_count": 59,
     "metadata": {},
     "output_type": "execute_result"
    }
   ],
   "source": [
    "df = pd.read_csv('../data/trabajo1.csv')\n",
    "df.head(3)"
   ]
  },
  {
   "cell_type": "code",
   "execution_count": 4,
   "id": "701301b7",
   "metadata": {},
   "outputs": [],
   "source": [
    "target = df[\"is_promoted\"]\n",
    "df_data = df.copy()\n",
    "df_data.drop(columns = [\"is_promoted\", \"employee_id\"], inplace = True);"
   ]
  },
  {
   "cell_type": "code",
   "execution_count": 5,
   "id": "570508f4",
   "metadata": {},
   "outputs": [
    {
     "data": {
      "text/plain": [
       "11"
      ]
     },
     "execution_count": 5,
     "metadata": {},
     "output_type": "execute_result"
    }
   ],
   "source": [
    "df_data.shape[1]"
   ]
  },
  {
   "cell_type": "code",
   "execution_count": 6,
   "id": "873a25a1",
   "metadata": {},
   "outputs": [
    {
     "data": {
      "text/plain": [
       "13"
      ]
     },
     "execution_count": 6,
     "metadata": {},
     "output_type": "execute_result"
    }
   ],
   "source": [
    "df.shape[1]"
   ]
  },
  {
   "cell_type": "markdown",
   "id": "0de2074e",
   "metadata": {},
   "source": [
    "**Proporción de promociones**"
   ]
  },
  {
   "cell_type": "code",
   "execution_count": 7,
   "id": "4e2ccbba",
   "metadata": {},
   "outputs": [
    {
     "data": {
      "text/plain": [
       "0    0.91483\n",
       "1    0.08517\n",
       "Name: is_promoted, dtype: float64"
      ]
     },
     "execution_count": 7,
     "metadata": {},
     "output_type": "execute_result"
    }
   ],
   "source": [
    "target.value_counts(normalize = True)"
   ]
  },
  {
   "cell_type": "markdown",
   "id": "2afdb391",
   "metadata": {},
   "source": [
    "No está balanceada. Para ver errores, utilizaremos esta función:"
   ]
  },
  {
   "cell_type": "markdown",
   "id": "11156823",
   "metadata": {},
   "source": [
    "$$ error(y, y_{est}) = \\beta * FP + FN $$"
   ]
  },
  {
   "cell_type": "markdown",
   "id": "c92cd25b",
   "metadata": {},
   "source": [
    "Donde:\n",
    "\n",
    "   * `FP`: false positive. Predicción es *promociona* pero en realidad *no promociona*\n",
    "   * `FN`: false negative. Predicción es *no promociona* pero en realidad *promociona*"
   ]
  },
  {
   "cell_type": "markdown",
   "id": "67703112",
   "metadata": {},
   "source": [
    "Nos importan $\\beta$ veces más los falsos positivos que los falsos negativos. Es decir, predecir que alguien promociona cuando en realidad NO promociona lo consideramos peor que predecir que alguien NO promociona cuando en realidad va a promocionar."
   ]
  },
  {
   "cell_type": "markdown",
   "id": "79e7cdbd",
   "metadata": {},
   "source": [
    "Queremos maximizar la sensibilidad del modelo para evitar los falsos positivos:\n",
    "\n",
    "$$ Sensitivity = \\frac{(TP)}{(TP + FN)} $$"
   ]
  },
  {
   "cell_type": "markdown",
   "id": "30eaa234",
   "metadata": {},
   "source": [
    "**Encoding variables**"
   ]
  },
  {
   "cell_type": "markdown",
   "id": "c70a518c",
   "metadata": {},
   "source": [
    "Categorical variables:\n",
    "   * department\n",
    "   * region\n",
    "   * education (has nan)\n",
    "   * gender\n",
    "   * recruitment_channel"
   ]
  },
  {
   "cell_type": "code",
   "execution_count": 8,
   "id": "dc4aa558",
   "metadata": {},
   "outputs": [],
   "source": [
    " from sklearn import preprocessing"
   ]
  },
  {
   "cell_type": "code",
   "execution_count": 74,
   "id": "5dd2a813",
   "metadata": {},
   "outputs": [],
   "source": [
    "def encodeCategoricalVariable(variable_to_encode, dataframe, binary):\n",
    "    '''\n",
    "    \n",
    "    Encodes a variable from the main df and returns an array with the encoded variables.\n",
    "\n",
    "            Parameters:\n",
    "                    variable_to_encode (string): name of the column from main df to encode\n",
    "                    dataframe (DataFrame): dataframe with all the information\n",
    "                    binary (boolean): True if a binary encoding is to be performed. False for integer encoding\n",
    "\n",
    "            Returns:\n",
    "                    encoded_variable (array): array with numerical values from encoded column. It can be 2D array if binary encoding is used\n",
    "    '''\n",
    "    if binary:\n",
    "        le = preprocessing.LabelBinarizer() # Creamos un label encoder\n",
    "    else:\n",
    "        le = preprocessing.LabelEncoder() # Creamos un label encoder\n",
    "    \n",
    "    le.fit(dataframe[variable_to_encode])    # Lo ajustamos a la variable en cuestión\n",
    "    encoded_variable = le.transform(dataframe[variable_to_encode]) # Transformamos la variable \n",
    "    \n",
    "    return encoded_variable\n"
   ]
  },
  {
   "cell_type": "code",
   "execution_count": 71,
   "id": "05cd6e69",
   "metadata": {},
   "outputs": [],
   "source": [
    "def includeEncodedVariablesInDataframe(variable_that_was_encoded, dataframe_where_to_include, encoded_array):\n",
    "    '''\n",
    "    \n",
    "    Includes an encoded variable in the specified dataframe.\n",
    "\n",
    "            Parameters:\n",
    "                    variable_that_was_encoded (string): name of the column that was encoded\n",
    "                    dataframe_where_to_include (DataFrame): df where to include the encoded variable\n",
    "                    encoded_array (array): array with the encoding of the  variable. It can be binary or not. It accepts 2D and 1D arrays\n",
    "\n",
    "            Returns:\n",
    "                    df_to_return (DataFrame): dataframe_where_to_include with the encoded variables included\n",
    "    '''    \n",
    "    \n",
    "    # The shape of the encoded array shape tuple is 2 if it is a binary encoded variable with several categories\n",
    "    # binary_variable will be True if encoded_array is a 2D array. It will be False if it is a 1D array\n",
    "    binary_variable = (len(encoded_array.shape) == 2)\n",
    "    \n",
    "    if binary_variable:\n",
    "        \n",
    "        # We obtain the number of binary values (number of columns to add to the dataframe)\n",
    "        num_binary_values = encoded_array.shape[1]\n",
    "        \n",
    "        # We create the names for the columns\n",
    "        list_of_names = [ variable_that_was_encoded + \"_\" + str(index) for index in range(num_binary_values)]\n",
    "        \n",
    "        # We create the dataframe\n",
    "        binary_dataframe = pd.DataFrame(data = encoded_array, columns = list_of_names)\n",
    "        \n",
    "        \n",
    "        # We combine the dataframes\n",
    "        df_to_return = dataframe_where_to_include.join(binary_dataframe, how='outer')\n",
    "        \n",
    "        # Return the final df\n",
    "        return df_to_return\n",
    "        \n",
    "    else:\n",
    "        dataframe_where_to_include[variable_that_was_encoded] = encoded_array\n",
    "        df_to_return = dataframe_where_to_include.copy()\n",
    "        \n",
    "        return df_to_return\n",
    "        "
   ]
  },
  {
   "cell_type": "markdown",
   "id": "3840add9",
   "metadata": {},
   "source": [
    "Example of use:"
   ]
  },
  {
   "cell_type": "code",
   "execution_count": 72,
   "id": "fef318e2",
   "metadata": {},
   "outputs": [
    {
     "data": {
      "text/html": [
       "<div>\n",
       "<style scoped>\n",
       "    .dataframe tbody tr th:only-of-type {\n",
       "        vertical-align: middle;\n",
       "    }\n",
       "\n",
       "    .dataframe tbody tr th {\n",
       "        vertical-align: top;\n",
       "    }\n",
       "\n",
       "    .dataframe thead th {\n",
       "        text-align: right;\n",
       "    }\n",
       "</style>\n",
       "<table border=\"1\" class=\"dataframe\">\n",
       "  <thead>\n",
       "    <tr style=\"text-align: right;\">\n",
       "      <th></th>\n",
       "      <th>department</th>\n",
       "      <th>region</th>\n",
       "      <th>education</th>\n",
       "      <th>gender</th>\n",
       "      <th>recruitment_channel</th>\n",
       "      <th>no_of_trainings</th>\n",
       "      <th>age</th>\n",
       "      <th>previous_year_rating</th>\n",
       "      <th>length_of_service</th>\n",
       "      <th>awards_won</th>\n",
       "      <th>avg_training_score</th>\n",
       "    </tr>\n",
       "  </thead>\n",
       "  <tbody>\n",
       "    <tr>\n",
       "      <th>0</th>\n",
       "      <td>7</td>\n",
       "      <td>region_7</td>\n",
       "      <td>Master's &amp; above</td>\n",
       "      <td>f</td>\n",
       "      <td>sourcing</td>\n",
       "      <td>1</td>\n",
       "      <td>35</td>\n",
       "      <td>5.0</td>\n",
       "      <td>8</td>\n",
       "      <td>0</td>\n",
       "      <td>49.0</td>\n",
       "    </tr>\n",
       "    <tr>\n",
       "      <th>1</th>\n",
       "      <td>4</td>\n",
       "      <td>region_22</td>\n",
       "      <td>Bachelor's</td>\n",
       "      <td>m</td>\n",
       "      <td>other</td>\n",
       "      <td>1</td>\n",
       "      <td>30</td>\n",
       "      <td>5.0</td>\n",
       "      <td>4</td>\n",
       "      <td>0</td>\n",
       "      <td>60.0</td>\n",
       "    </tr>\n",
       "    <tr>\n",
       "      <th>2</th>\n",
       "      <td>7</td>\n",
       "      <td>region_19</td>\n",
       "      <td>Bachelor's</td>\n",
       "      <td>m</td>\n",
       "      <td>sourcing</td>\n",
       "      <td>1</td>\n",
       "      <td>34</td>\n",
       "      <td>3.0</td>\n",
       "      <td>7</td>\n",
       "      <td>0</td>\n",
       "      <td>50.0</td>\n",
       "    </tr>\n",
       "  </tbody>\n",
       "</table>\n",
       "</div>"
      ],
      "text/plain": [
       "   department     region         education gender recruitment_channel  \\\n",
       "0           7   region_7  Master's & above      f            sourcing   \n",
       "1           4  region_22        Bachelor's      m               other   \n",
       "2           7  region_19        Bachelor's      m            sourcing   \n",
       "\n",
       "   no_of_trainings  age  previous_year_rating  length_of_service  awards_won  \\\n",
       "0                1   35                   5.0                  8           0   \n",
       "1                1   30                   5.0                  4           0   \n",
       "2                1   34                   3.0                  7           0   \n",
       "\n",
       "   avg_training_score  \n",
       "0                49.0  \n",
       "1                60.0  \n",
       "2                50.0  "
      ]
     },
     "execution_count": 72,
     "metadata": {},
     "output_type": "execute_result"
    }
   ],
   "source": [
    "df_data.head(3)"
   ]
  },
  {
   "cell_type": "code",
   "execution_count": 78,
   "id": "2ed49c4f",
   "metadata": {},
   "outputs": [],
   "source": [
    "encoded_variable = encodeCategoricalVariable(\"department\", df_data, True)"
   ]
  },
  {
   "cell_type": "code",
   "execution_count": 80,
   "id": "c026fbac",
   "metadata": {},
   "outputs": [
    {
     "data": {
      "text/html": [
       "<div>\n",
       "<style scoped>\n",
       "    .dataframe tbody tr th:only-of-type {\n",
       "        vertical-align: middle;\n",
       "    }\n",
       "\n",
       "    .dataframe tbody tr th {\n",
       "        vertical-align: top;\n",
       "    }\n",
       "\n",
       "    .dataframe thead th {\n",
       "        text-align: right;\n",
       "    }\n",
       "</style>\n",
       "<table border=\"1\" class=\"dataframe\">\n",
       "  <thead>\n",
       "    <tr style=\"text-align: right;\">\n",
       "      <th></th>\n",
       "      <th>department</th>\n",
       "      <th>region</th>\n",
       "      <th>education</th>\n",
       "      <th>gender</th>\n",
       "      <th>recruitment_channel</th>\n",
       "      <th>no_of_trainings</th>\n",
       "      <th>age</th>\n",
       "      <th>previous_year_rating</th>\n",
       "      <th>length_of_service</th>\n",
       "      <th>awards_won</th>\n",
       "      <th>avg_training_score</th>\n",
       "      <th>department_0</th>\n",
       "      <th>department_1</th>\n",
       "      <th>department_2</th>\n",
       "      <th>department_3</th>\n",
       "      <th>department_4</th>\n",
       "      <th>department_5</th>\n",
       "      <th>department_6</th>\n",
       "      <th>department_7</th>\n",
       "      <th>department_8</th>\n",
       "    </tr>\n",
       "  </thead>\n",
       "  <tbody>\n",
       "    <tr>\n",
       "      <th>0</th>\n",
       "      <td>7</td>\n",
       "      <td>region_7</td>\n",
       "      <td>Master's &amp; above</td>\n",
       "      <td>f</td>\n",
       "      <td>sourcing</td>\n",
       "      <td>1</td>\n",
       "      <td>35</td>\n",
       "      <td>5.0</td>\n",
       "      <td>8</td>\n",
       "      <td>0</td>\n",
       "      <td>49.0</td>\n",
       "      <td>0</td>\n",
       "      <td>0</td>\n",
       "      <td>0</td>\n",
       "      <td>0</td>\n",
       "      <td>0</td>\n",
       "      <td>0</td>\n",
       "      <td>0</td>\n",
       "      <td>1</td>\n",
       "      <td>0</td>\n",
       "    </tr>\n",
       "    <tr>\n",
       "      <th>1</th>\n",
       "      <td>4</td>\n",
       "      <td>region_22</td>\n",
       "      <td>Bachelor's</td>\n",
       "      <td>m</td>\n",
       "      <td>other</td>\n",
       "      <td>1</td>\n",
       "      <td>30</td>\n",
       "      <td>5.0</td>\n",
       "      <td>4</td>\n",
       "      <td>0</td>\n",
       "      <td>60.0</td>\n",
       "      <td>0</td>\n",
       "      <td>0</td>\n",
       "      <td>0</td>\n",
       "      <td>0</td>\n",
       "      <td>1</td>\n",
       "      <td>0</td>\n",
       "      <td>0</td>\n",
       "      <td>0</td>\n",
       "      <td>0</td>\n",
       "    </tr>\n",
       "    <tr>\n",
       "      <th>2</th>\n",
       "      <td>7</td>\n",
       "      <td>region_19</td>\n",
       "      <td>Bachelor's</td>\n",
       "      <td>m</td>\n",
       "      <td>sourcing</td>\n",
       "      <td>1</td>\n",
       "      <td>34</td>\n",
       "      <td>3.0</td>\n",
       "      <td>7</td>\n",
       "      <td>0</td>\n",
       "      <td>50.0</td>\n",
       "      <td>0</td>\n",
       "      <td>0</td>\n",
       "      <td>0</td>\n",
       "      <td>0</td>\n",
       "      <td>0</td>\n",
       "      <td>0</td>\n",
       "      <td>0</td>\n",
       "      <td>1</td>\n",
       "      <td>0</td>\n",
       "    </tr>\n",
       "  </tbody>\n",
       "</table>\n",
       "</div>"
      ],
      "text/plain": [
       "   department     region         education gender recruitment_channel  \\\n",
       "0           7   region_7  Master's & above      f            sourcing   \n",
       "1           4  region_22        Bachelor's      m               other   \n",
       "2           7  region_19        Bachelor's      m            sourcing   \n",
       "\n",
       "   no_of_trainings  age  previous_year_rating  length_of_service  awards_won  \\\n",
       "0                1   35                   5.0                  8           0   \n",
       "1                1   30                   5.0                  4           0   \n",
       "2                1   34                   3.0                  7           0   \n",
       "\n",
       "   avg_training_score  department_0  department_1  department_2  department_3  \\\n",
       "0                49.0             0             0             0             0   \n",
       "1                60.0             0             0             0             0   \n",
       "2                50.0             0             0             0             0   \n",
       "\n",
       "   department_4  department_5  department_6  department_7  department_8  \n",
       "0             0             0             0             1             0  \n",
       "1             1             0             0             0             0  \n",
       "2             0             0             0             1             0  "
      ]
     },
     "execution_count": 80,
     "metadata": {},
     "output_type": "execute_result"
    }
   ],
   "source": [
    "includeEncodedVariablesInDataframe(\"department\", df_data, encoded_variable).head(3)"
   ]
  },
  {
   "cell_type": "markdown",
   "id": "79b510d2",
   "metadata": {},
   "source": [
    "We build arrays for automating the functions"
   ]
  },
  {
   "cell_type": "code",
   "execution_count": 82,
   "id": "6a47f2b3",
   "metadata": {},
   "outputs": [],
   "source": [
    "variables_to_encode = [\"department\", \"region\", \"gender\", \"recruitment_channel\"]\n",
    "binary_encodings = [True, False, False, True]"
   ]
  },
  {
   "cell_type": "code",
   "execution_count": 83,
   "id": "f18d3088",
   "metadata": {},
   "outputs": [],
   "source": [
    "df_data_encoded = df_data.copy()\n",
    "\n",
    "for i in range(len(variables_to_encode)):\n",
    "    variable = variables_to_encode[i]\n",
    "    binary_encoding = binary_encodings[i]\n",
    "    \n",
    "    encoded_variable = encodeCategoricalVariable(variable, df_data_encoded, True)\n",
    "    df_data_encoded = includeEncodedVariablesInDataframe(variable, df_data_encoded, encoded_variable).copy()"
   ]
  },
  {
   "cell_type": "code",
   "execution_count": 85,
   "id": "132a714c",
   "metadata": {},
   "outputs": [
    {
     "data": {
      "text/html": [
       "<div>\n",
       "<style scoped>\n",
       "    .dataframe tbody tr th:only-of-type {\n",
       "        vertical-align: middle;\n",
       "    }\n",
       "\n",
       "    .dataframe tbody tr th {\n",
       "        vertical-align: top;\n",
       "    }\n",
       "\n",
       "    .dataframe thead th {\n",
       "        text-align: right;\n",
       "    }\n",
       "</style>\n",
       "<table border=\"1\" class=\"dataframe\">\n",
       "  <thead>\n",
       "    <tr style=\"text-align: right;\">\n",
       "      <th></th>\n",
       "      <th>department</th>\n",
       "      <th>region</th>\n",
       "      <th>education</th>\n",
       "      <th>gender</th>\n",
       "      <th>recruitment_channel</th>\n",
       "      <th>no_of_trainings</th>\n",
       "      <th>age</th>\n",
       "      <th>previous_year_rating</th>\n",
       "      <th>length_of_service</th>\n",
       "      <th>awards_won</th>\n",
       "      <th>...</th>\n",
       "      <th>region_28</th>\n",
       "      <th>region_29</th>\n",
       "      <th>region_30</th>\n",
       "      <th>region_31</th>\n",
       "      <th>region_32</th>\n",
       "      <th>region_33</th>\n",
       "      <th>gender_0</th>\n",
       "      <th>recruitment_channel_0</th>\n",
       "      <th>recruitment_channel_1</th>\n",
       "      <th>recruitment_channel_2</th>\n",
       "    </tr>\n",
       "  </thead>\n",
       "  <tbody>\n",
       "    <tr>\n",
       "      <th>0</th>\n",
       "      <td>7</td>\n",
       "      <td>region_7</td>\n",
       "      <td>Master's &amp; above</td>\n",
       "      <td>f</td>\n",
       "      <td>sourcing</td>\n",
       "      <td>1</td>\n",
       "      <td>35</td>\n",
       "      <td>5.0</td>\n",
       "      <td>8</td>\n",
       "      <td>0</td>\n",
       "      <td>...</td>\n",
       "      <td>0</td>\n",
       "      <td>0</td>\n",
       "      <td>0</td>\n",
       "      <td>1</td>\n",
       "      <td>0</td>\n",
       "      <td>0</td>\n",
       "      <td>0</td>\n",
       "      <td>0</td>\n",
       "      <td>0</td>\n",
       "      <td>1</td>\n",
       "    </tr>\n",
       "    <tr>\n",
       "      <th>1</th>\n",
       "      <td>4</td>\n",
       "      <td>region_22</td>\n",
       "      <td>Bachelor's</td>\n",
       "      <td>m</td>\n",
       "      <td>other</td>\n",
       "      <td>1</td>\n",
       "      <td>30</td>\n",
       "      <td>5.0</td>\n",
       "      <td>4</td>\n",
       "      <td>0</td>\n",
       "      <td>...</td>\n",
       "      <td>0</td>\n",
       "      <td>0</td>\n",
       "      <td>0</td>\n",
       "      <td>0</td>\n",
       "      <td>0</td>\n",
       "      <td>0</td>\n",
       "      <td>1</td>\n",
       "      <td>1</td>\n",
       "      <td>0</td>\n",
       "      <td>0</td>\n",
       "    </tr>\n",
       "    <tr>\n",
       "      <th>2</th>\n",
       "      <td>7</td>\n",
       "      <td>region_19</td>\n",
       "      <td>Bachelor's</td>\n",
       "      <td>m</td>\n",
       "      <td>sourcing</td>\n",
       "      <td>1</td>\n",
       "      <td>34</td>\n",
       "      <td>3.0</td>\n",
       "      <td>7</td>\n",
       "      <td>0</td>\n",
       "      <td>...</td>\n",
       "      <td>0</td>\n",
       "      <td>0</td>\n",
       "      <td>0</td>\n",
       "      <td>0</td>\n",
       "      <td>0</td>\n",
       "      <td>0</td>\n",
       "      <td>1</td>\n",
       "      <td>0</td>\n",
       "      <td>0</td>\n",
       "      <td>1</td>\n",
       "    </tr>\n",
       "  </tbody>\n",
       "</table>\n",
       "<p>3 rows × 58 columns</p>\n",
       "</div>"
      ],
      "text/plain": [
       "   department     region         education gender recruitment_channel  \\\n",
       "0           7   region_7  Master's & above      f            sourcing   \n",
       "1           4  region_22        Bachelor's      m               other   \n",
       "2           7  region_19        Bachelor's      m            sourcing   \n",
       "\n",
       "   no_of_trainings  age  previous_year_rating  length_of_service  awards_won  \\\n",
       "0                1   35                   5.0                  8           0   \n",
       "1                1   30                   5.0                  4           0   \n",
       "2                1   34                   3.0                  7           0   \n",
       "\n",
       "   ...  region_28  region_29  region_30  region_31  region_32  region_33  \\\n",
       "0  ...          0          0          0          1          0          0   \n",
       "1  ...          0          0          0          0          0          0   \n",
       "2  ...          0          0          0          0          0          0   \n",
       "\n",
       "   gender_0  recruitment_channel_0  recruitment_channel_1  \\\n",
       "0         0                      0                      0   \n",
       "1         1                      1                      0   \n",
       "2         1                      0                      0   \n",
       "\n",
       "   recruitment_channel_2  \n",
       "0                      1  \n",
       "1                      0  \n",
       "2                      1  \n",
       "\n",
       "[3 rows x 58 columns]"
      ]
     },
     "execution_count": 85,
     "metadata": {},
     "output_type": "execute_result"
    }
   ],
   "source": [
    "df_data_encoded.head(3)"
   ]
  },
  {
   "cell_type": "markdown",
   "id": "7d87be79",
   "metadata": {},
   "source": [
    "**Separación en test/train**"
   ]
  },
  {
   "cell_type": "code",
   "execution_count": 33,
   "id": "5a899305",
   "metadata": {},
   "outputs": [],
   "source": [
    "X_train, X_test, y_train, y_test = train_test_split(df_data,target,test_size = 0.33,random_state = 123) # Random state es para repetir siempre el mismo resultado"
   ]
  },
  {
   "cell_type": "code",
   "execution_count": 36,
   "id": "386909a4",
   "metadata": {},
   "outputs": [
    {
     "data": {
      "text/plain": [
       "employee_id                0\n",
       "department                 0\n",
       "region                     0\n",
       "education               2409\n",
       "gender                     0\n",
       "recruitment_channel        0\n",
       "no_of_trainings            0\n",
       "age                        0\n",
       "previous_year_rating    4124\n",
       "length_of_service          0\n",
       "awards_won                 0\n",
       "avg_training_score      2560\n",
       "is_promoted                0\n",
       "dtype: int64"
      ]
     },
     "execution_count": 36,
     "metadata": {},
     "output_type": "execute_result"
    }
   ],
   "source": [
    "df.isna().sum()"
   ]
  },
  {
   "cell_type": "code",
   "execution_count": null,
   "id": "50f1b413",
   "metadata": {},
   "outputs": [],
   "source": []
  }
 ],
 "metadata": {
  "interpreter": {
   "hash": "0600588c3b5f4418cbe7b5ebc6825b479f3bc010269d8b60d75058cdd010adfe"
  },
  "kernelspec": {
   "display_name": "Python 3 (ipykernel)",
   "language": "python",
   "name": "python3"
  },
  "language_info": {
   "codemirror_mode": {
    "name": "ipython",
    "version": 3
   },
   "file_extension": ".py",
   "mimetype": "text/x-python",
   "name": "python",
   "nbconvert_exporter": "python",
   "pygments_lexer": "ipython3",
   "version": "3.7.8rc1"
  }
 },
 "nbformat": 4,
 "nbformat_minor": 5
}
