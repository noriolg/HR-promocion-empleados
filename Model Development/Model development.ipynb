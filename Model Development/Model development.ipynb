{
 "cells": [
  {
   "cell_type": "code",
   "execution_count": 75,
   "id": "4e6ff2b1",
   "metadata": {},
   "outputs": [],
   "source": [
    "import pandas as pd\n",
    "import numpy as np\n",
    "import plotly.graph_objects as go\n",
    "\n",
    "from sklearn.model_selection import train_test_split\n",
    "from sklearn.decomposition import PCA\n",
    "from sklearn.impute import SimpleImputer\n",
    "from sklearn.svm import LinearSVC\n",
    "\n",
    "from joblib import dump, load"
   ]
  },
  {
   "cell_type": "code",
   "execution_count": 76,
   "id": "5ee444e8",
   "metadata": {},
   "outputs": [
    {
     "data": {
      "text/html": [
       "<div>\n",
       "<style scoped>\n",
       "    .dataframe tbody tr th:only-of-type {\n",
       "        vertical-align: middle;\n",
       "    }\n",
       "\n",
       "    .dataframe tbody tr th {\n",
       "        vertical-align: top;\n",
       "    }\n",
       "\n",
       "    .dataframe thead th {\n",
       "        text-align: right;\n",
       "    }\n",
       "</style>\n",
       "<table border=\"1\" class=\"dataframe\">\n",
       "  <thead>\n",
       "    <tr style=\"text-align: right;\">\n",
       "      <th></th>\n",
       "      <th>employee_id</th>\n",
       "      <th>department</th>\n",
       "      <th>region</th>\n",
       "      <th>education</th>\n",
       "      <th>gender</th>\n",
       "      <th>recruitment_channel</th>\n",
       "      <th>no_of_trainings</th>\n",
       "      <th>age</th>\n",
       "      <th>previous_year_rating</th>\n",
       "      <th>length_of_service</th>\n",
       "      <th>awards_won</th>\n",
       "      <th>avg_training_score</th>\n",
       "      <th>is_promoted</th>\n",
       "    </tr>\n",
       "  </thead>\n",
       "  <tbody>\n",
       "    <tr>\n",
       "      <th>0</th>\n",
       "      <td>65438</td>\n",
       "      <td>Sales &amp; Marketing</td>\n",
       "      <td>region_7</td>\n",
       "      <td>Master's &amp; above</td>\n",
       "      <td>f</td>\n",
       "      <td>sourcing</td>\n",
       "      <td>1</td>\n",
       "      <td>35</td>\n",
       "      <td>5.0</td>\n",
       "      <td>8</td>\n",
       "      <td>0</td>\n",
       "      <td>49.0</td>\n",
       "      <td>0</td>\n",
       "    </tr>\n",
       "    <tr>\n",
       "      <th>1</th>\n",
       "      <td>65141</td>\n",
       "      <td>Operations</td>\n",
       "      <td>region_22</td>\n",
       "      <td>Bachelor's</td>\n",
       "      <td>m</td>\n",
       "      <td>other</td>\n",
       "      <td>1</td>\n",
       "      <td>30</td>\n",
       "      <td>5.0</td>\n",
       "      <td>4</td>\n",
       "      <td>0</td>\n",
       "      <td>60.0</td>\n",
       "      <td>0</td>\n",
       "    </tr>\n",
       "    <tr>\n",
       "      <th>2</th>\n",
       "      <td>7513</td>\n",
       "      <td>Sales &amp; Marketing</td>\n",
       "      <td>region_19</td>\n",
       "      <td>Bachelor's</td>\n",
       "      <td>m</td>\n",
       "      <td>sourcing</td>\n",
       "      <td>1</td>\n",
       "      <td>34</td>\n",
       "      <td>3.0</td>\n",
       "      <td>7</td>\n",
       "      <td>0</td>\n",
       "      <td>50.0</td>\n",
       "      <td>0</td>\n",
       "    </tr>\n",
       "  </tbody>\n",
       "</table>\n",
       "</div>"
      ],
      "text/plain": [
       "   employee_id         department     region         education gender  \\\n",
       "0        65438  Sales & Marketing   region_7  Master's & above      f   \n",
       "1        65141         Operations  region_22        Bachelor's      m   \n",
       "2         7513  Sales & Marketing  region_19        Bachelor's      m   \n",
       "\n",
       "  recruitment_channel  no_of_trainings  age  previous_year_rating  \\\n",
       "0            sourcing                1   35                   5.0   \n",
       "1               other                1   30                   5.0   \n",
       "2            sourcing                1   34                   3.0   \n",
       "\n",
       "   length_of_service  awards_won  avg_training_score  is_promoted  \n",
       "0                  8           0                49.0            0  \n",
       "1                  4           0                60.0            0  \n",
       "2                  7           0                50.0            0  "
      ]
     },
     "execution_count": 76,
     "metadata": {},
     "output_type": "execute_result"
    }
   ],
   "source": [
    "df_model = pd.read_pickle('../data/df_treated_nulls.pkl')\n",
    "df_model.head(3)"
   ]
  },
  {
   "cell_type": "code",
   "execution_count": 77,
   "id": "701301b7",
   "metadata": {},
   "outputs": [],
   "source": [
    "target = df_model[\"is_promoted\"]\n",
    "df_no_target = df_model.copy()\n",
    "df_no_target.drop(columns = [\"is_promoted\", \"employee_id\"], inplace = True);"
   ]
  },
  {
   "cell_type": "code",
   "execution_count": 78,
   "id": "570508f4",
   "metadata": {},
   "outputs": [
    {
     "data": {
      "text/plain": [
       "11"
      ]
     },
     "execution_count": 78,
     "metadata": {},
     "output_type": "execute_result"
    }
   ],
   "source": [
    "df_no_target.shape[1]"
   ]
  },
  {
   "cell_type": "code",
   "execution_count": 79,
   "id": "873a25a1",
   "metadata": {},
   "outputs": [
    {
     "data": {
      "text/plain": [
       "13"
      ]
     },
     "execution_count": 79,
     "metadata": {},
     "output_type": "execute_result"
    }
   ],
   "source": [
    "df_model.shape[1]"
   ]
  },
  {
   "cell_type": "markdown",
   "id": "0de2074e",
   "metadata": {},
   "source": [
    "**Proporción de promociones**"
   ]
  },
  {
   "cell_type": "code",
   "execution_count": 80,
   "id": "4e2ccbba",
   "metadata": {},
   "outputs": [
    {
     "data": {
      "text/plain": [
       "0    0.91483\n",
       "1    0.08517\n",
       "Name: is_promoted, dtype: float64"
      ]
     },
     "execution_count": 80,
     "metadata": {},
     "output_type": "execute_result"
    }
   ],
   "source": [
    "target.value_counts(normalize = True)"
   ]
  },
  {
   "cell_type": "markdown",
   "id": "2afdb391",
   "metadata": {},
   "source": [
    "No está balanceada. Para ver errores, utilizaremos esta función:"
   ]
  },
  {
   "cell_type": "markdown",
   "id": "11156823",
   "metadata": {},
   "source": [
    "$$ error(y, y_{est}) = \\beta * FP + FN $$"
   ]
  },
  {
   "cell_type": "markdown",
   "id": "c92cd25b",
   "metadata": {},
   "source": [
    "Donde:\n",
    "\n",
    "   * `FP`: false positive. Predicción es *promociona* pero en realidad *no promociona*\n",
    "   * `FN`: false negative. Predicción es *no promociona* pero en realidad *promociona*"
   ]
  },
  {
   "cell_type": "markdown",
   "id": "67703112",
   "metadata": {},
   "source": [
    "Nos importan $\\beta$ veces más los falsos positivos que los falsos negativos. Es decir, predecir que alguien promociona cuando en realidad NO promociona lo consideramos peor que predecir que alguien NO promociona cuando en realidad va a promocionar."
   ]
  },
  {
   "cell_type": "markdown",
   "id": "79e7cdbd",
   "metadata": {},
   "source": [
    "Queremos maximizar la sensibilidad del modelo para evitar los falsos positivos:\n",
    "\n",
    "$$ Sensitivity = \\frac{(TP)}{(TP + FN)} $$"
   ]
  },
  {
   "cell_type": "markdown",
   "id": "7065ec68",
   "metadata": {},
   "source": [
    "De todos los positivos que había... ¿qué porcentaje hemos encontrado?"
   ]
  },
  {
   "cell_type": "markdown",
   "id": "9966edd8",
   "metadata": {},
   "source": [
    "En cambio si maximizaramos la precisión del modelo:"
   ]
  },
  {
   "cell_type": "markdown",
   "id": "94884a10",
   "metadata": {},
   "source": [
    "Queremos maximizar la sensibilidad del modelo para evitar los falsos positivos:\n",
    "\n",
    "$$ Precision = \\frac{(TP)}{(TP + FP)} $$"
   ]
  },
  {
   "cell_type": "markdown",
   "id": "bf05c160",
   "metadata": {},
   "source": [
    "De todos los que hemos predicho que eran positivos... ¿qué porcentaje hemos acertado?"
   ]
  },
  {
   "cell_type": "markdown",
   "id": "b1eface8",
   "metadata": {},
   "source": [
    "# Preguntar -> yo creo que queremos maximizar precisión"
   ]
  },
  {
   "cell_type": "markdown",
   "id": "30eaa234",
   "metadata": {},
   "source": [
    "**Encoding variables**"
   ]
  },
  {
   "cell_type": "markdown",
   "id": "c70a518c",
   "metadata": {},
   "source": [
    "Categorical variables:\n",
    "   * department\n",
    "   * region\n",
    "   * education (has nan)\n",
    "   * gender\n",
    "   * recruitment_channel"
   ]
  },
  {
   "cell_type": "code",
   "execution_count": 81,
   "id": "dc4aa558",
   "metadata": {},
   "outputs": [],
   "source": [
    " from sklearn import preprocessing"
   ]
  },
  {
   "cell_type": "code",
   "execution_count": 151,
   "id": "5dd2a813",
   "metadata": {},
   "outputs": [],
   "source": [
    "def encodeCategoricalVariable(variable_to_encode, dataframe, one_hot_encoding):\n",
    "    '''Encodes a variable from the main df and returns an array with the encoded variables.\n",
    "\n",
    "        Parameters:\n",
    "                variable_to_encode (string): name of the column from main df to encode\n",
    "                dataframe (DataFrame): dataframe with all the information\n",
    "                one_hot_encoding (boolean): True if a one_hot_encoding encoding is to be performed. False for integer encoding\n",
    "\n",
    "        Returns:\n",
    "                encoded_variable (array): array with numerical values from encoded column. It can be 2D array if binary encoding is used\n",
    "    '''\n",
    "    if one_hot_encoding:\n",
    "        le = preprocessing.LabelBinarizer() # Creamos un label encoder\n",
    "    else:\n",
    "        le = preprocessing.LabelEncoder() # Creamos un label encoder\n",
    "    \n",
    "    le.fit(dataframe[variable_to_encode])    # Lo ajustamos a la variable en cuestión\n",
    "    encoded_variable = le.transform(dataframe[variable_to_encode]) # Transformamos la variable \n",
    "    \n",
    "    # Se guarda el encoder para usarlo en el programa del dashboard\n",
    "    file_name = \"encoder_variable_\" + variable_to_encode\n",
    "    dump(le, '../data/'+ file_name + \".joblib\") \n",
    "    \n",
    "    return encoded_variable\n"
   ]
  },
  {
   "cell_type": "code",
   "execution_count": 158,
   "id": "05cd6e69",
   "metadata": {},
   "outputs": [],
   "source": [
    "def includeEncodedVariablesInDataframe(variable_that_was_encoded, dataframe_where_to_include, encoded_array):\n",
    "    '''Includes an encoded variable in the specified dataframe.\n",
    "    asdasdad\n",
    "\n",
    "        Parameters:\n",
    "                variable_that_was_encoded (string): name of the column that was encoded\n",
    "                dataframe_where_to_include (DataFrame): df where to include the encoded variable\n",
    "                encoded_array (array): array with the encoding of the  variable. It can be binary or not. It accepts 2D and 1D arrays\n",
    "\n",
    "        Returns:\n",
    "                df_to_return (DataFrame): dataframe_where_to_include with the encoded variables included\n",
    "    '''    \n",
    "    \n",
    "    # The shape of the encoded array shape tuple is 2 if it is a binary encoded variable with several categories\n",
    "    # binary_variable will be True if encoded_array is a 2D array. It will be False if it is a 1D array\n",
    "    binary_variable = (len(encoded_array.shape) == 2)\n",
    "    \n",
    "    if binary_variable:\n",
    "        \n",
    "        # We obtain the number of binary values (number of columns to add to the dataframe)\n",
    "        num_binary_values = encoded_array.shape[1]\n",
    "        \n",
    "        # We create the names for the columns\n",
    "        list_of_names = [ variable_that_was_encoded + \"_\" + str(index) for index in range(num_binary_values)]\n",
    "        \n",
    "        # We create the dataframe\n",
    "        binary_dataframe = pd.DataFrame(data = encoded_array, columns = list_of_names)\n",
    "        \n",
    "        \n",
    "        # We combine the dataframes\n",
    "        df_to_return = dataframe_where_to_include.join(binary_dataframe, how='outer')\n",
    "        \n",
    "        # Return the final df\n",
    "        return df_to_return\n",
    "        \n",
    "    else:\n",
    "        dataframe_where_to_include[variable_that_was_encoded] = encoded_array\n",
    "        df_to_return = dataframe_where_to_include.copy()\n",
    "        \n",
    "        \n",
    "        return df_to_return\n",
    "        "
   ]
  },
  {
   "cell_type": "markdown",
   "id": "3840add9",
   "metadata": {},
   "source": [
    "Ejemplo de uso:"
   ]
  },
  {
   "cell_type": "code",
   "execution_count": 84,
   "id": "fef318e2",
   "metadata": {},
   "outputs": [
    {
     "data": {
      "text/html": [
       "<div>\n",
       "<style scoped>\n",
       "    .dataframe tbody tr th:only-of-type {\n",
       "        vertical-align: middle;\n",
       "    }\n",
       "\n",
       "    .dataframe tbody tr th {\n",
       "        vertical-align: top;\n",
       "    }\n",
       "\n",
       "    .dataframe thead th {\n",
       "        text-align: right;\n",
       "    }\n",
       "</style>\n",
       "<table border=\"1\" class=\"dataframe\">\n",
       "  <thead>\n",
       "    <tr style=\"text-align: right;\">\n",
       "      <th></th>\n",
       "      <th>department</th>\n",
       "      <th>region</th>\n",
       "      <th>education</th>\n",
       "      <th>gender</th>\n",
       "      <th>recruitment_channel</th>\n",
       "      <th>no_of_trainings</th>\n",
       "      <th>age</th>\n",
       "      <th>previous_year_rating</th>\n",
       "      <th>length_of_service</th>\n",
       "      <th>awards_won</th>\n",
       "      <th>avg_training_score</th>\n",
       "    </tr>\n",
       "  </thead>\n",
       "  <tbody>\n",
       "    <tr>\n",
       "      <th>0</th>\n",
       "      <td>Sales &amp; Marketing</td>\n",
       "      <td>region_7</td>\n",
       "      <td>Master's &amp; above</td>\n",
       "      <td>f</td>\n",
       "      <td>sourcing</td>\n",
       "      <td>1</td>\n",
       "      <td>35</td>\n",
       "      <td>5.0</td>\n",
       "      <td>8</td>\n",
       "      <td>0</td>\n",
       "      <td>49.0</td>\n",
       "    </tr>\n",
       "    <tr>\n",
       "      <th>1</th>\n",
       "      <td>Operations</td>\n",
       "      <td>region_22</td>\n",
       "      <td>Bachelor's</td>\n",
       "      <td>m</td>\n",
       "      <td>other</td>\n",
       "      <td>1</td>\n",
       "      <td>30</td>\n",
       "      <td>5.0</td>\n",
       "      <td>4</td>\n",
       "      <td>0</td>\n",
       "      <td>60.0</td>\n",
       "    </tr>\n",
       "    <tr>\n",
       "      <th>2</th>\n",
       "      <td>Sales &amp; Marketing</td>\n",
       "      <td>region_19</td>\n",
       "      <td>Bachelor's</td>\n",
       "      <td>m</td>\n",
       "      <td>sourcing</td>\n",
       "      <td>1</td>\n",
       "      <td>34</td>\n",
       "      <td>3.0</td>\n",
       "      <td>7</td>\n",
       "      <td>0</td>\n",
       "      <td>50.0</td>\n",
       "    </tr>\n",
       "  </tbody>\n",
       "</table>\n",
       "</div>"
      ],
      "text/plain": [
       "          department     region         education gender recruitment_channel  \\\n",
       "0  Sales & Marketing   region_7  Master's & above      f            sourcing   \n",
       "1         Operations  region_22        Bachelor's      m               other   \n",
       "2  Sales & Marketing  region_19        Bachelor's      m            sourcing   \n",
       "\n",
       "   no_of_trainings  age  previous_year_rating  length_of_service  awards_won  \\\n",
       "0                1   35                   5.0                  8           0   \n",
       "1                1   30                   5.0                  4           0   \n",
       "2                1   34                   3.0                  7           0   \n",
       "\n",
       "   avg_training_score  \n",
       "0                49.0  \n",
       "1                60.0  \n",
       "2                50.0  "
      ]
     },
     "execution_count": 84,
     "metadata": {},
     "output_type": "execute_result"
    }
   ],
   "source": [
    "df_no_target.head(3)"
   ]
  },
  {
   "cell_type": "code",
   "execution_count": 85,
   "id": "2ed49c4f",
   "metadata": {},
   "outputs": [],
   "source": [
    "encoded_variable = encodeCategoricalVariable(\"department\", df_no_target, True)"
   ]
  },
  {
   "cell_type": "code",
   "execution_count": 86,
   "id": "c026fbac",
   "metadata": {},
   "outputs": [
    {
     "data": {
      "text/html": [
       "<div>\n",
       "<style scoped>\n",
       "    .dataframe tbody tr th:only-of-type {\n",
       "        vertical-align: middle;\n",
       "    }\n",
       "\n",
       "    .dataframe tbody tr th {\n",
       "        vertical-align: top;\n",
       "    }\n",
       "\n",
       "    .dataframe thead th {\n",
       "        text-align: right;\n",
       "    }\n",
       "</style>\n",
       "<table border=\"1\" class=\"dataframe\">\n",
       "  <thead>\n",
       "    <tr style=\"text-align: right;\">\n",
       "      <th></th>\n",
       "      <th>department</th>\n",
       "      <th>region</th>\n",
       "      <th>education</th>\n",
       "      <th>gender</th>\n",
       "      <th>recruitment_channel</th>\n",
       "      <th>no_of_trainings</th>\n",
       "      <th>age</th>\n",
       "      <th>previous_year_rating</th>\n",
       "      <th>length_of_service</th>\n",
       "      <th>awards_won</th>\n",
       "      <th>avg_training_score</th>\n",
       "      <th>department_0</th>\n",
       "      <th>department_1</th>\n",
       "      <th>department_2</th>\n",
       "      <th>department_3</th>\n",
       "      <th>department_4</th>\n",
       "      <th>department_5</th>\n",
       "      <th>department_6</th>\n",
       "      <th>department_7</th>\n",
       "      <th>department_8</th>\n",
       "    </tr>\n",
       "  </thead>\n",
       "  <tbody>\n",
       "    <tr>\n",
       "      <th>0</th>\n",
       "      <td>Sales &amp; Marketing</td>\n",
       "      <td>region_7</td>\n",
       "      <td>Master's &amp; above</td>\n",
       "      <td>f</td>\n",
       "      <td>sourcing</td>\n",
       "      <td>1</td>\n",
       "      <td>35</td>\n",
       "      <td>5.0</td>\n",
       "      <td>8</td>\n",
       "      <td>0</td>\n",
       "      <td>49.0</td>\n",
       "      <td>0</td>\n",
       "      <td>0</td>\n",
       "      <td>0</td>\n",
       "      <td>0</td>\n",
       "      <td>0</td>\n",
       "      <td>0</td>\n",
       "      <td>0</td>\n",
       "      <td>1</td>\n",
       "      <td>0</td>\n",
       "    </tr>\n",
       "    <tr>\n",
       "      <th>1</th>\n",
       "      <td>Operations</td>\n",
       "      <td>region_22</td>\n",
       "      <td>Bachelor's</td>\n",
       "      <td>m</td>\n",
       "      <td>other</td>\n",
       "      <td>1</td>\n",
       "      <td>30</td>\n",
       "      <td>5.0</td>\n",
       "      <td>4</td>\n",
       "      <td>0</td>\n",
       "      <td>60.0</td>\n",
       "      <td>0</td>\n",
       "      <td>0</td>\n",
       "      <td>0</td>\n",
       "      <td>0</td>\n",
       "      <td>1</td>\n",
       "      <td>0</td>\n",
       "      <td>0</td>\n",
       "      <td>0</td>\n",
       "      <td>0</td>\n",
       "    </tr>\n",
       "    <tr>\n",
       "      <th>2</th>\n",
       "      <td>Sales &amp; Marketing</td>\n",
       "      <td>region_19</td>\n",
       "      <td>Bachelor's</td>\n",
       "      <td>m</td>\n",
       "      <td>sourcing</td>\n",
       "      <td>1</td>\n",
       "      <td>34</td>\n",
       "      <td>3.0</td>\n",
       "      <td>7</td>\n",
       "      <td>0</td>\n",
       "      <td>50.0</td>\n",
       "      <td>0</td>\n",
       "      <td>0</td>\n",
       "      <td>0</td>\n",
       "      <td>0</td>\n",
       "      <td>0</td>\n",
       "      <td>0</td>\n",
       "      <td>0</td>\n",
       "      <td>1</td>\n",
       "      <td>0</td>\n",
       "    </tr>\n",
       "  </tbody>\n",
       "</table>\n",
       "</div>"
      ],
      "text/plain": [
       "          department     region         education gender recruitment_channel  \\\n",
       "0  Sales & Marketing   region_7  Master's & above      f            sourcing   \n",
       "1         Operations  region_22        Bachelor's      m               other   \n",
       "2  Sales & Marketing  region_19        Bachelor's      m            sourcing   \n",
       "\n",
       "   no_of_trainings  age  previous_year_rating  length_of_service  awards_won  \\\n",
       "0                1   35                   5.0                  8           0   \n",
       "1                1   30                   5.0                  4           0   \n",
       "2                1   34                   3.0                  7           0   \n",
       "\n",
       "   avg_training_score  department_0  department_1  department_2  department_3  \\\n",
       "0                49.0             0             0             0             0   \n",
       "1                60.0             0             0             0             0   \n",
       "2                50.0             0             0             0             0   \n",
       "\n",
       "   department_4  department_5  department_6  department_7  department_8  \n",
       "0             0             0             0             1             0  \n",
       "1             1             0             0             0             0  \n",
       "2             0             0             0             1             0  "
      ]
     },
     "execution_count": 86,
     "metadata": {},
     "output_type": "execute_result"
    }
   ],
   "source": [
    "includeEncodedVariablesInDataframe(\"department\", df_no_target, encoded_variable).head(3)"
   ]
  },
  {
   "cell_type": "markdown",
   "id": "79b510d2",
   "metadata": {},
   "source": [
    "Construimos listas para automatizar la llamada a las funciones:"
   ]
  },
  {
   "cell_type": "code",
   "execution_count": 87,
   "id": "6a47f2b3",
   "metadata": {},
   "outputs": [],
   "source": [
    "# He decidido no tener en cuenta región. Apenas hay grandes diferencias, no aporta mucho al modelo y la manera correcta sería con one-hot encoding. \n",
    "# Esto supone un aumento considerable de variables que no aporta excesivamente y corremos el riesgo de overfitting.\n",
    "#variables_to_encode = [\"department\", \"region\",\"education\", \"gender\", \"recruitment_channel\"]\n",
    "#binary_encodings = [True, False,True , False, False, True]\n",
    "variables_to_encode = [\"department\",\"education\", \"gender\", \"recruitment_channel\"]\n",
    "binary_encodings = [True,True , False, False, True]"
   ]
  },
  {
   "cell_type": "code",
   "execution_count": 88,
   "id": "f18d3088",
   "metadata": {},
   "outputs": [],
   "source": [
    "df_encoded_all_vars = df_no_target.copy()\n",
    "\n",
    "for i in range(len(variables_to_encode)):\n",
    "    variable = variables_to_encode[i]\n",
    "    binary_encoding = binary_encodings[i]\n",
    "    \n",
    "    encoded_variable = encodeCategoricalVariable(variable, df_encoded_all_vars, True)\n",
    "    df_encoded_all_vars = includeEncodedVariablesInDataframe(variable, df_encoded_all_vars, encoded_variable).copy()"
   ]
  },
  {
   "cell_type": "code",
   "execution_count": 89,
   "id": "132a714c",
   "metadata": {},
   "outputs": [
    {
     "data": {
      "text/html": [
       "<div>\n",
       "<style scoped>\n",
       "    .dataframe tbody tr th:only-of-type {\n",
       "        vertical-align: middle;\n",
       "    }\n",
       "\n",
       "    .dataframe tbody tr th {\n",
       "        vertical-align: top;\n",
       "    }\n",
       "\n",
       "    .dataframe thead th {\n",
       "        text-align: right;\n",
       "    }\n",
       "</style>\n",
       "<table border=\"1\" class=\"dataframe\">\n",
       "  <thead>\n",
       "    <tr style=\"text-align: right;\">\n",
       "      <th></th>\n",
       "      <th>department</th>\n",
       "      <th>region</th>\n",
       "      <th>education</th>\n",
       "      <th>gender</th>\n",
       "      <th>recruitment_channel</th>\n",
       "      <th>no_of_trainings</th>\n",
       "      <th>age</th>\n",
       "      <th>previous_year_rating</th>\n",
       "      <th>length_of_service</th>\n",
       "      <th>awards_won</th>\n",
       "      <th>...</th>\n",
       "      <th>department_7</th>\n",
       "      <th>department_8</th>\n",
       "      <th>education_0</th>\n",
       "      <th>education_1</th>\n",
       "      <th>education_2</th>\n",
       "      <th>education_3</th>\n",
       "      <th>gender_0</th>\n",
       "      <th>recruitment_channel_0</th>\n",
       "      <th>recruitment_channel_1</th>\n",
       "      <th>recruitment_channel_2</th>\n",
       "    </tr>\n",
       "  </thead>\n",
       "  <tbody>\n",
       "    <tr>\n",
       "      <th>0</th>\n",
       "      <td>Sales &amp; Marketing</td>\n",
       "      <td>region_7</td>\n",
       "      <td>Master's &amp; above</td>\n",
       "      <td>f</td>\n",
       "      <td>sourcing</td>\n",
       "      <td>1</td>\n",
       "      <td>35</td>\n",
       "      <td>5.0</td>\n",
       "      <td>8</td>\n",
       "      <td>0</td>\n",
       "      <td>...</td>\n",
       "      <td>1</td>\n",
       "      <td>0</td>\n",
       "      <td>0</td>\n",
       "      <td>0</td>\n",
       "      <td>1</td>\n",
       "      <td>0</td>\n",
       "      <td>0</td>\n",
       "      <td>0</td>\n",
       "      <td>0</td>\n",
       "      <td>1</td>\n",
       "    </tr>\n",
       "    <tr>\n",
       "      <th>1</th>\n",
       "      <td>Operations</td>\n",
       "      <td>region_22</td>\n",
       "      <td>Bachelor's</td>\n",
       "      <td>m</td>\n",
       "      <td>other</td>\n",
       "      <td>1</td>\n",
       "      <td>30</td>\n",
       "      <td>5.0</td>\n",
       "      <td>4</td>\n",
       "      <td>0</td>\n",
       "      <td>...</td>\n",
       "      <td>0</td>\n",
       "      <td>0</td>\n",
       "      <td>1</td>\n",
       "      <td>0</td>\n",
       "      <td>0</td>\n",
       "      <td>0</td>\n",
       "      <td>1</td>\n",
       "      <td>1</td>\n",
       "      <td>0</td>\n",
       "      <td>0</td>\n",
       "    </tr>\n",
       "    <tr>\n",
       "      <th>2</th>\n",
       "      <td>Sales &amp; Marketing</td>\n",
       "      <td>region_19</td>\n",
       "      <td>Bachelor's</td>\n",
       "      <td>m</td>\n",
       "      <td>sourcing</td>\n",
       "      <td>1</td>\n",
       "      <td>34</td>\n",
       "      <td>3.0</td>\n",
       "      <td>7</td>\n",
       "      <td>0</td>\n",
       "      <td>...</td>\n",
       "      <td>1</td>\n",
       "      <td>0</td>\n",
       "      <td>1</td>\n",
       "      <td>0</td>\n",
       "      <td>0</td>\n",
       "      <td>0</td>\n",
       "      <td>1</td>\n",
       "      <td>0</td>\n",
       "      <td>0</td>\n",
       "      <td>1</td>\n",
       "    </tr>\n",
       "  </tbody>\n",
       "</table>\n",
       "<p>3 rows × 28 columns</p>\n",
       "</div>"
      ],
      "text/plain": [
       "          department     region         education gender recruitment_channel  \\\n",
       "0  Sales & Marketing   region_7  Master's & above      f            sourcing   \n",
       "1         Operations  region_22        Bachelor's      m               other   \n",
       "2  Sales & Marketing  region_19        Bachelor's      m            sourcing   \n",
       "\n",
       "   no_of_trainings  age  previous_year_rating  length_of_service  awards_won  \\\n",
       "0                1   35                   5.0                  8           0   \n",
       "1                1   30                   5.0                  4           0   \n",
       "2                1   34                   3.0                  7           0   \n",
       "\n",
       "   ...  department_7  department_8  education_0  education_1  education_2  \\\n",
       "0  ...             1             0            0            0            1   \n",
       "1  ...             0             0            1            0            0   \n",
       "2  ...             1             0            1            0            0   \n",
       "\n",
       "   education_3  gender_0  recruitment_channel_0  recruitment_channel_1  \\\n",
       "0            0         0                      0                      0   \n",
       "1            0         1                      1                      0   \n",
       "2            0         1                      0                      0   \n",
       "\n",
       "   recruitment_channel_2  \n",
       "0                      1  \n",
       "1                      0  \n",
       "2                      1  \n",
       "\n",
       "[3 rows x 28 columns]"
      ]
     },
     "execution_count": 89,
     "metadata": {},
     "output_type": "execute_result"
    }
   ],
   "source": [
    "df_encoded_all_vars.head(3)"
   ]
  },
  {
   "cell_type": "markdown",
   "id": "5ef11663",
   "metadata": {},
   "source": [
    "Eliminamos las variables string que ya han sido codificadas"
   ]
  },
  {
   "cell_type": "code",
   "execution_count": 90,
   "id": "a3476caf",
   "metadata": {},
   "outputs": [],
   "source": [
    "variables_to_encode.append(\"region\") # He añadido esto para quitar también region"
   ]
  },
  {
   "cell_type": "code",
   "execution_count": 91,
   "id": "0f3b6b62",
   "metadata": {},
   "outputs": [],
   "source": [
    "df_encoded = df_encoded_all_vars.drop(variables_to_encode, axis=1)"
   ]
  },
  {
   "cell_type": "code",
   "execution_count": 92,
   "id": "6340ef38",
   "metadata": {},
   "outputs": [
    {
     "data": {
      "text/html": [
       "<div>\n",
       "<style scoped>\n",
       "    .dataframe tbody tr th:only-of-type {\n",
       "        vertical-align: middle;\n",
       "    }\n",
       "\n",
       "    .dataframe tbody tr th {\n",
       "        vertical-align: top;\n",
       "    }\n",
       "\n",
       "    .dataframe thead th {\n",
       "        text-align: right;\n",
       "    }\n",
       "</style>\n",
       "<table border=\"1\" class=\"dataframe\">\n",
       "  <thead>\n",
       "    <tr style=\"text-align: right;\">\n",
       "      <th></th>\n",
       "      <th>no_of_trainings</th>\n",
       "      <th>age</th>\n",
       "      <th>previous_year_rating</th>\n",
       "      <th>length_of_service</th>\n",
       "      <th>awards_won</th>\n",
       "      <th>avg_training_score</th>\n",
       "      <th>department_0</th>\n",
       "      <th>department_1</th>\n",
       "      <th>department_2</th>\n",
       "      <th>department_3</th>\n",
       "      <th>...</th>\n",
       "      <th>department_7</th>\n",
       "      <th>department_8</th>\n",
       "      <th>education_0</th>\n",
       "      <th>education_1</th>\n",
       "      <th>education_2</th>\n",
       "      <th>education_3</th>\n",
       "      <th>gender_0</th>\n",
       "      <th>recruitment_channel_0</th>\n",
       "      <th>recruitment_channel_1</th>\n",
       "      <th>recruitment_channel_2</th>\n",
       "    </tr>\n",
       "  </thead>\n",
       "  <tbody>\n",
       "    <tr>\n",
       "      <th>0</th>\n",
       "      <td>1</td>\n",
       "      <td>35</td>\n",
       "      <td>5.0</td>\n",
       "      <td>8</td>\n",
       "      <td>0</td>\n",
       "      <td>49.0</td>\n",
       "      <td>0</td>\n",
       "      <td>0</td>\n",
       "      <td>0</td>\n",
       "      <td>0</td>\n",
       "      <td>...</td>\n",
       "      <td>1</td>\n",
       "      <td>0</td>\n",
       "      <td>0</td>\n",
       "      <td>0</td>\n",
       "      <td>1</td>\n",
       "      <td>0</td>\n",
       "      <td>0</td>\n",
       "      <td>0</td>\n",
       "      <td>0</td>\n",
       "      <td>1</td>\n",
       "    </tr>\n",
       "    <tr>\n",
       "      <th>1</th>\n",
       "      <td>1</td>\n",
       "      <td>30</td>\n",
       "      <td>5.0</td>\n",
       "      <td>4</td>\n",
       "      <td>0</td>\n",
       "      <td>60.0</td>\n",
       "      <td>0</td>\n",
       "      <td>0</td>\n",
       "      <td>0</td>\n",
       "      <td>0</td>\n",
       "      <td>...</td>\n",
       "      <td>0</td>\n",
       "      <td>0</td>\n",
       "      <td>1</td>\n",
       "      <td>0</td>\n",
       "      <td>0</td>\n",
       "      <td>0</td>\n",
       "      <td>1</td>\n",
       "      <td>1</td>\n",
       "      <td>0</td>\n",
       "      <td>0</td>\n",
       "    </tr>\n",
       "    <tr>\n",
       "      <th>2</th>\n",
       "      <td>1</td>\n",
       "      <td>34</td>\n",
       "      <td>3.0</td>\n",
       "      <td>7</td>\n",
       "      <td>0</td>\n",
       "      <td>50.0</td>\n",
       "      <td>0</td>\n",
       "      <td>0</td>\n",
       "      <td>0</td>\n",
       "      <td>0</td>\n",
       "      <td>...</td>\n",
       "      <td>1</td>\n",
       "      <td>0</td>\n",
       "      <td>1</td>\n",
       "      <td>0</td>\n",
       "      <td>0</td>\n",
       "      <td>0</td>\n",
       "      <td>1</td>\n",
       "      <td>0</td>\n",
       "      <td>0</td>\n",
       "      <td>1</td>\n",
       "    </tr>\n",
       "    <tr>\n",
       "      <th>3</th>\n",
       "      <td>2</td>\n",
       "      <td>39</td>\n",
       "      <td>1.0</td>\n",
       "      <td>10</td>\n",
       "      <td>0</td>\n",
       "      <td>50.0</td>\n",
       "      <td>0</td>\n",
       "      <td>0</td>\n",
       "      <td>0</td>\n",
       "      <td>0</td>\n",
       "      <td>...</td>\n",
       "      <td>1</td>\n",
       "      <td>0</td>\n",
       "      <td>1</td>\n",
       "      <td>0</td>\n",
       "      <td>0</td>\n",
       "      <td>0</td>\n",
       "      <td>1</td>\n",
       "      <td>1</td>\n",
       "      <td>0</td>\n",
       "      <td>0</td>\n",
       "    </tr>\n",
       "    <tr>\n",
       "      <th>4</th>\n",
       "      <td>1</td>\n",
       "      <td>45</td>\n",
       "      <td>3.0</td>\n",
       "      <td>2</td>\n",
       "      <td>0</td>\n",
       "      <td>73.0</td>\n",
       "      <td>0</td>\n",
       "      <td>0</td>\n",
       "      <td>0</td>\n",
       "      <td>0</td>\n",
       "      <td>...</td>\n",
       "      <td>0</td>\n",
       "      <td>1</td>\n",
       "      <td>1</td>\n",
       "      <td>0</td>\n",
       "      <td>0</td>\n",
       "      <td>0</td>\n",
       "      <td>1</td>\n",
       "      <td>1</td>\n",
       "      <td>0</td>\n",
       "      <td>0</td>\n",
       "    </tr>\n",
       "  </tbody>\n",
       "</table>\n",
       "<p>5 rows × 23 columns</p>\n",
       "</div>"
      ],
      "text/plain": [
       "   no_of_trainings  age  previous_year_rating  length_of_service  awards_won  \\\n",
       "0                1   35                   5.0                  8           0   \n",
       "1                1   30                   5.0                  4           0   \n",
       "2                1   34                   3.0                  7           0   \n",
       "3                2   39                   1.0                 10           0   \n",
       "4                1   45                   3.0                  2           0   \n",
       "\n",
       "   avg_training_score  department_0  department_1  department_2  department_3  \\\n",
       "0                49.0             0             0             0             0   \n",
       "1                60.0             0             0             0             0   \n",
       "2                50.0             0             0             0             0   \n",
       "3                50.0             0             0             0             0   \n",
       "4                73.0             0             0             0             0   \n",
       "\n",
       "   ...  department_7  department_8  education_0  education_1  education_2  \\\n",
       "0  ...             1             0            0            0            1   \n",
       "1  ...             0             0            1            0            0   \n",
       "2  ...             1             0            1            0            0   \n",
       "3  ...             1             0            1            0            0   \n",
       "4  ...             0             1            1            0            0   \n",
       "\n",
       "   education_3  gender_0  recruitment_channel_0  recruitment_channel_1  \\\n",
       "0            0         0                      0                      0   \n",
       "1            0         1                      1                      0   \n",
       "2            0         1                      0                      0   \n",
       "3            0         1                      1                      0   \n",
       "4            0         1                      1                      0   \n",
       "\n",
       "   recruitment_channel_2  \n",
       "0                      1  \n",
       "1                      0  \n",
       "2                      1  \n",
       "3                      0  \n",
       "4                      0  \n",
       "\n",
       "[5 rows x 23 columns]"
      ]
     },
     "execution_count": 92,
     "metadata": {},
     "output_type": "execute_result"
    }
   ],
   "source": [
    "df_encoded.head()"
   ]
  },
  {
   "cell_type": "markdown",
   "id": "7d87be79",
   "metadata": {},
   "source": [
    "**Separación en test/train**"
   ]
  },
  {
   "cell_type": "code",
   "execution_count": 93,
   "id": "5a899305",
   "metadata": {},
   "outputs": [],
   "source": [
    "X_train, X_test, y_train, y_test = train_test_split(df_encoded,target,test_size = 0.33,random_state = 123) # Random state es para repetir siempre el mismo resultado"
   ]
  },
  {
   "cell_type": "code",
   "execution_count": 94,
   "id": "386909a4",
   "metadata": {},
   "outputs": [
    {
     "data": {
      "text/plain": [
       "no_of_trainings          0\n",
       "age                      0\n",
       "previous_year_rating     0\n",
       "length_of_service        0\n",
       "awards_won               0\n",
       "avg_training_score       0\n",
       "department_0             0\n",
       "department_1             0\n",
       "department_2             0\n",
       "department_3             0\n",
       "department_4             0\n",
       "department_5             0\n",
       "department_6             0\n",
       "department_7             0\n",
       "department_8             0\n",
       "education_0              0\n",
       "education_1              0\n",
       "education_2              0\n",
       "education_3              0\n",
       "gender_0                 0\n",
       "recruitment_channel_0    0\n",
       "recruitment_channel_1    0\n",
       "recruitment_channel_2    0\n",
       "dtype: int64"
      ]
     },
     "execution_count": 94,
     "metadata": {},
     "output_type": "execute_result"
    }
   ],
   "source": [
    "df_encoded.isna().sum()"
   ]
  },
  {
   "cell_type": "markdown",
   "id": "700d7487",
   "metadata": {},
   "source": [
    "**PCA**"
   ]
  },
  {
   "cell_type": "markdown",
   "id": "761cf28a",
   "metadata": {},
   "source": [
    "Se ha decidido no hacer PCA debido a que aporta relativamente poco en combinación con los encodings realizados (aunque hagamos una normalización previa)"
   ]
  },
  {
   "cell_type": "markdown",
   "id": "cacc983e",
   "metadata": {},
   "source": [
    "De todas maneras, se deja el código por si acaso fuera necesario más tarde o cambiaramos de opinión"
   ]
  },
  {
   "cell_type": "code",
   "execution_count": 95,
   "id": "019ffe75",
   "metadata": {},
   "outputs": [],
   "source": [
    "do_pca = False"
   ]
  },
  {
   "cell_type": "code",
   "execution_count": 96,
   "id": "d5469ddf",
   "metadata": {},
   "outputs": [],
   "source": [
    "if do_pca:\n",
    "    pca = PCA(n_components=2)\n",
    "    X_train_pca = pd.DataFrame(pca.fit_transform(X_train),columns = [\"pca1\",\"pca2\"])\n",
    "    X_test_pca = pd.DataFrame(pca.transform(X_test), columns = [\"pca1\",\"pca2\"])\n",
    "    \n",
    "    print(\"Varianza explicada: \")\n",
    "    print(pca.explained_variance_ratio_.cumsum()) # Buena cantidad de varianza explciada\n",
    "    \n",
    "    # Voy a asignar colores para cada clase, que recordamos son los valores 0, 1 y 2\n",
    "\n",
    "    colores = {\n",
    "        0 : \"firebrick\",\n",
    "        1 : \"steelblue\",\n",
    "        2 : \"mediumseagreen\"\n",
    "    }\n",
    "\n",
    "    # Asigno otro diccionario para las categorías\n",
    "\n",
    "    cat = {\n",
    "        0 : \"Not Promoted\",\n",
    "        1 : \"Promoted\",\n",
    "    }\n",
    "\n",
    "    # Creamos un gráfico de puntos para representar las relaciones entre esas dos variables\n",
    "    fig = go.Figure()\n",
    "\n",
    "    # Representamos los datos de train con círculos\n",
    "\n",
    "    fig.add_trace(\n",
    "        go.Scatter(\n",
    "            x = X_train_pca[\"pca1\"],\n",
    "            y = X_train_pca[\"pca2\"],\n",
    "            mode = \"markers\",\n",
    "            marker_color = y_train.map(colores), # Asigno los colores según la clase\n",
    "            marker_symbol = \"circle\",\n",
    "            text = y_train.map(cat),\n",
    "            hovertemplate = \"Categoria: %{text}\",\n",
    "            name = \"Train\"\n",
    "        )\n",
    "    )\n",
    "\n",
    "    # Representamos los datos de test con triángulos\n",
    "\n",
    "    fig.add_trace(\n",
    "        go.Scatter(\n",
    "            x = X_test_pca[\"pca1\"],\n",
    "            y = X_test_pca[\"pca2\"],\n",
    "            mode = \"markers\",\n",
    "            marker_color = y_test.map(colores), # Asigno los colores según la clase\n",
    "            marker_symbol = \"triangle-up\",\n",
    "            text = y_test.map(cat),\n",
    "            hovertemplate = \"Categoria: %{text}\",\n",
    "            name = \"Test\"\n",
    "        )\n",
    "    )\n",
    "\n",
    "    # Añadimos información en los ejes para completar el diseño\n",
    "\n",
    "    fig.update_layout(title = \"Representación de los datos de Iris en 2 dimensiones\", xaxis_title = \"PCA 1\", yaxis_title = \"PCA 2\")\n",
    "\n",
    "    # Mostramos la figura por pantalla\n",
    "\n",
    "    fig.show()\n",
    "    "
   ]
  },
  {
   "cell_type": "markdown",
   "id": "9c9d3a84",
   "metadata": {},
   "source": [
    "**Normalización**"
   ]
  },
  {
   "cell_type": "code",
   "execution_count": 97,
   "id": "8fa1c94a",
   "metadata": {},
   "outputs": [],
   "source": [
    "# Guardamos las variables por si acaso son necesarias más adelante\n",
    "X_train_pre_transform = X_train\n",
    "X_test_pre_transform = X_test"
   ]
  },
  {
   "cell_type": "code",
   "execution_count": 98,
   "id": "07696ab8",
   "metadata": {},
   "outputs": [],
   "source": [
    "from sklearn.preprocessing import StandardScaler\n",
    "sc = StandardScaler()\n",
    "X_train = sc.fit_transform(X_train.values)\n",
    "X_test = sc.transform(X_test.values)"
   ]
  },
  {
   "cell_type": "code",
   "execution_count": 99,
   "id": "9b3e7e6e",
   "metadata": {},
   "outputs": [
    {
     "data": {
      "text/plain": [
       "['../data/standard_scaler_modelos.joblib']"
      ]
     },
     "execution_count": 99,
     "metadata": {},
     "output_type": "execute_result"
    }
   ],
   "source": [
    "dump(sc, '../data/standard_scaler_modelos.joblib') "
   ]
  },
  {
   "cell_type": "code",
   "execution_count": 100,
   "id": "005bd669",
   "metadata": {},
   "outputs": [],
   "source": [
    "sc = load('../data/standard_scaler_modelos.joblib') "
   ]
  },
  {
   "cell_type": "markdown",
   "id": "68373544",
   "metadata": {},
   "source": [
    "**Fitting del modelo**"
   ]
  },
  {
   "cell_type": "code",
   "execution_count": 101,
   "id": "080976c5",
   "metadata": {},
   "outputs": [],
   "source": [
    "from sklearn.ensemble import RandomForestClassifier\n",
    "from sklearn.model_selection import train_test_split, GridSearchCV, StratifiedKFold\n",
    "from sklearn.metrics import roc_curve, precision_recall_curve, auc, make_scorer, recall_score, accuracy_score, precision_score, confusion_matrix\n",
    "import matplotlib.pyplot as plt "
   ]
  },
  {
   "cell_type": "code",
   "execution_count": 102,
   "id": "76d20b3f",
   "metadata": {},
   "outputs": [],
   "source": [
    "clf = RandomForestClassifier(n_jobs=-1)\n",
    "\n",
    "param_grid = {\n",
    "    'min_samples_split': [3, 5, 10],   # Minimum number of samples required to split an internal node\n",
    "    'n_estimators' : [100, 300],   # NUmber of trees in forest\n",
    "    'max_depth': [3, 5, 15, 25],  # Maximum depth of the tree\n",
    "    'max_features': [3, 5, 10, 20]  # Number of features to consider when looking for the best split\n",
    "}\n",
    "\n",
    "scorers = {\n",
    "    'precision_score': make_scorer(precision_score),  # Limit the number of false positives -> != max sensitivity\n",
    "    'recall_score': make_scorer(recall_score),  \n",
    "    'accuracy_score': make_scorer(accuracy_score)\n",
    "}"
   ]
  },
  {
   "cell_type": "code",
   "execution_count": 103,
   "id": "78d36af0",
   "metadata": {},
   "outputs": [],
   "source": [
    "def grid_search_wrapper(refit_score='precision_score'):\n",
    "    \"\"\"\n",
    "    fits a GridSearchCV classifier using refit_score for optimization\n",
    "    prints classifier performance metrics\n",
    "    \"\"\"\n",
    "    skf = StratifiedKFold(n_splits=10)\n",
    "    grid_search = GridSearchCV(clf, param_grid, scoring=scorers, refit=refit_score,\n",
    "                           cv=skf, return_train_score=True, n_jobs=-1)\n",
    "    grid_search.fit(X_train, y_train)\n",
    "\n",
    "    # make the predictions\n",
    "    y_pred = grid_search.predict(X_test)\n",
    "\n",
    "    print('Best params for {}'.format(refit_score))\n",
    "    print(grid_search.best_params_)\n",
    "\n",
    "    # confusion matrix on the test data.\n",
    "    print('\\nConfusion matrix of Random Forest optimized for {} on the test data:'.format(refit_score))\n",
    "    print(pd.DataFrame(confusion_matrix(y_test, y_pred),\n",
    "                 columns=['pred_neg', 'pred_pos'], index=['neg', 'pos']))\n",
    "    return grid_search"
   ]
  },
  {
   "cell_type": "markdown",
   "id": "d7d0fa42",
   "metadata": {},
   "source": [
    "Está comentado porque tarda un par de horas en correr"
   ]
  },
  {
   "cell_type": "code",
   "execution_count": 104,
   "id": "a6cb9843",
   "metadata": {},
   "outputs": [],
   "source": [
    "#grid_search_clf = grid_search_wrapper(refit_score='precision_score')"
   ]
  },
  {
   "attachments": {
    "GridSearch_result.jpg": {
     "image/jpeg": "[encoded data removed]"
    }
   },
   "cell_type": "markdown",
   "id": "0738cc49",
   "metadata": {},
   "source": [
    "![GridSearch_result.jpg](attachment:GridSearch_result.jpg)"
   ]
  },
  {
   "cell_type": "markdown",
   "id": "4cee862a",
   "metadata": {},
   "source": [
    "Guardamos los resultados porque tarda mucho en ejecutarse"
   ]
  },
  {
   "cell_type": "code",
   "execution_count": 105,
   "id": "73bb4e04",
   "metadata": {},
   "outputs": [],
   "source": [
    "#dump(grid_search_clf, '../data/resultados_gridsearch_modelos.joblib') "
   ]
  },
  {
   "cell_type": "markdown",
   "id": "ff3cb6b5",
   "metadata": {},
   "source": [
    "Importamos los resultados"
   ]
  },
  {
   "cell_type": "code",
   "execution_count": 106,
   "id": "5f17fb6b",
   "metadata": {},
   "outputs": [],
   "source": [
    "grid_search_clf = load('../data/resultados_gridsearch_modelos.joblib') "
   ]
  },
  {
   "cell_type": "code",
   "execution_count": 107,
   "id": "f6444f20",
   "metadata": {},
   "outputs": [],
   "source": [
    "results = pd.DataFrame(grid_search_clf.cv_results_)\n",
    "results = results.sort_values(by='mean_test_precision_score', ascending=False)"
   ]
  },
  {
   "cell_type": "code",
   "execution_count": 108,
   "id": "300af681",
   "metadata": {},
   "outputs": [
    {
     "data": {
      "text/html": [
       "<div>\n",
       "<style scoped>\n",
       "    .dataframe tbody tr th:only-of-type {\n",
       "        vertical-align: middle;\n",
       "    }\n",
       "\n",
       "    .dataframe tbody tr th {\n",
       "        vertical-align: top;\n",
       "    }\n",
       "\n",
       "    .dataframe thead th {\n",
       "        text-align: right;\n",
       "    }\n",
       "</style>\n",
       "<table border=\"1\" class=\"dataframe\">\n",
       "  <thead>\n",
       "    <tr style=\"text-align: right;\">\n",
       "      <th></th>\n",
       "      <th>mean_test_precision_score</th>\n",
       "      <th>mean_test_recall_score</th>\n",
       "      <th>mean_test_accuracy_score</th>\n",
       "      <th>param_max_depth</th>\n",
       "      <th>param_max_features</th>\n",
       "      <th>param_min_samples_split</th>\n",
       "      <th>param_n_estimators</th>\n",
       "    </tr>\n",
       "  </thead>\n",
       "  <tbody>\n",
       "    <tr>\n",
       "      <th>27</th>\n",
       "      <td>1.0</td>\n",
       "      <td>0.063</td>\n",
       "      <td>0.920</td>\n",
       "      <td>5</td>\n",
       "      <td>3</td>\n",
       "      <td>5</td>\n",
       "      <td>300</td>\n",
       "    </tr>\n",
       "    <tr>\n",
       "      <th>6</th>\n",
       "      <td>1.0</td>\n",
       "      <td>0.066</td>\n",
       "      <td>0.920</td>\n",
       "      <td>3</td>\n",
       "      <td>5</td>\n",
       "      <td>3</td>\n",
       "      <td>100</td>\n",
       "    </tr>\n",
       "    <tr>\n",
       "      <th>29</th>\n",
       "      <td>1.0</td>\n",
       "      <td>0.068</td>\n",
       "      <td>0.920</td>\n",
       "      <td>5</td>\n",
       "      <td>3</td>\n",
       "      <td>10</td>\n",
       "      <td>300</td>\n",
       "    </tr>\n",
       "    <tr>\n",
       "      <th>9</th>\n",
       "      <td>1.0</td>\n",
       "      <td>0.081</td>\n",
       "      <td>0.921</td>\n",
       "      <td>3</td>\n",
       "      <td>5</td>\n",
       "      <td>5</td>\n",
       "      <td>300</td>\n",
       "    </tr>\n",
       "    <tr>\n",
       "      <th>7</th>\n",
       "      <td>1.0</td>\n",
       "      <td>0.066</td>\n",
       "      <td>0.920</td>\n",
       "      <td>3</td>\n",
       "      <td>5</td>\n",
       "      <td>3</td>\n",
       "      <td>300</td>\n",
       "    </tr>\n",
       "  </tbody>\n",
       "</table>\n",
       "</div>"
      ],
      "text/plain": [
       "    mean_test_precision_score  mean_test_recall_score  \\\n",
       "27                        1.0                   0.063   \n",
       "6                         1.0                   0.066   \n",
       "29                        1.0                   0.068   \n",
       "9                         1.0                   0.081   \n",
       "7                         1.0                   0.066   \n",
       "\n",
       "    mean_test_accuracy_score param_max_depth param_max_features  \\\n",
       "27                     0.920               5                  3   \n",
       "6                      0.920               3                  5   \n",
       "29                     0.920               5                  3   \n",
       "9                      0.921               3                  5   \n",
       "7                      0.920               3                  5   \n",
       "\n",
       "   param_min_samples_split param_n_estimators  \n",
       "27                       5                300  \n",
       "6                        3                100  \n",
       "29                      10                300  \n",
       "9                        5                300  \n",
       "7                        3                300  "
      ]
     },
     "execution_count": 108,
     "metadata": {},
     "output_type": "execute_result"
    }
   ],
   "source": [
    "results[['mean_test_precision_score', 'mean_test_recall_score', 'mean_test_accuracy_score', 'param_max_depth', 'param_max_features', 'param_min_samples_split', 'param_n_estimators']].round(3).head()"
   ]
  },
  {
   "cell_type": "markdown",
   "id": "72751ddd",
   "metadata": {},
   "source": [
    "Ajustando límite de decisión"
   ]
  },
  {
   "cell_type": "code",
   "execution_count": 109,
   "id": "803aecc1",
   "metadata": {},
   "outputs": [],
   "source": [
    "y_scores = grid_search_clf.predict_proba(X_test)[:, 1]"
   ]
  },
  {
   "cell_type": "code",
   "execution_count": 110,
   "id": "bd0276b3",
   "metadata": {},
   "outputs": [],
   "source": [
    "p, r, thresholds = precision_recall_curve(y_test, y_scores)"
   ]
  },
  {
   "cell_type": "code",
   "execution_count": 111,
   "id": "83041cb3",
   "metadata": {},
   "outputs": [],
   "source": [
    "def adjusted_classes(y_scores, t):\n",
    "    \"\"\"\n",
    "    This function adjusts class predictions based on the prediction threshold (t).\n",
    "    Will only work for binary classification problems.\n",
    "    \"\"\"\n",
    "    return [1 if y >= t else 0 for y in y_scores]\n",
    "\n",
    "def precision_recall_threshold(p, r, thresholds, t=0.5):\n",
    "    \"\"\"\n",
    "    plots the precision recall curve and shows the current value for each\n",
    "    by identifying the classifier's threshold (t).\n",
    "    \"\"\"\n",
    "    \n",
    "    # generate new class predictions based on the adjusted_classes\n",
    "    # function above and view the resulting confusion matrix.\n",
    "    y_pred_adj = adjusted_classes(y_scores, t)\n",
    "    print(pd.DataFrame(confusion_matrix(y_test, y_pred_adj),\n",
    "                       columns=['pred_neg', 'pred_pos'], \n",
    "                       index=['neg', 'pos']))\n",
    "    \n",
    "    # plot the curve\n",
    "    plt.figure(figsize=(8,8))\n",
    "    plt.title(\"Precision and Recall curve ^ = current threshold\")\n",
    "    plt.step(r, p, color='b', alpha=0.2,\n",
    "             where='post')\n",
    "    plt.fill_between(r, p, step='post', alpha=0.2,\n",
    "                     color='b')\n",
    "    #plt.ylim([0.5, 1.01]);\n",
    "    #plt.xlim([0.5, 1.01]);\n",
    "    plt.xlabel('Recall');\n",
    "    plt.ylabel('Precision');\n",
    "    \n",
    "    # plot the current threshold on the line\n",
    "    close_default_clf = np.argmin(np.abs(thresholds - t))\n",
    "    plt.plot(r[close_default_clf], p[close_default_clf], '^', c='k',\n",
    "            markersize=15)"
   ]
  },
  {
   "cell_type": "code",
   "execution_count": 112,
   "id": "c827c534",
   "metadata": {},
   "outputs": [
    {
     "name": "stdout",
     "output_type": "stream",
     "text": [
      "     pred_neg  pred_pos\n",
      "neg     16570         1\n",
      "pos      1364       152\n"
     ]
    },
    {
     "data": {
      "image/png": "[encoded data removed]",
      "text/plain": [
       "<Figure size 576x576 with 1 Axes>"
      ]
     },
     "metadata": {
      "needs_background": "light"
     },
     "output_type": "display_data"
    }
   ],
   "source": [
    "precision_recall_threshold(p, r, thresholds, 0.50)"
   ]
  },
  {
   "cell_type": "markdown",
   "id": "4b28bc99",
   "metadata": {},
   "source": [
    "Another way..."
   ]
  },
  {
   "cell_type": "code",
   "execution_count": 113,
   "id": "fded792c",
   "metadata": {},
   "outputs": [],
   "source": [
    "\n",
    "def plot_precision_recall_vs_threshold(precisions, recalls, thresholds):\n",
    "    \"\"\"\n",
    "    Modified from:\n",
    "    Hands-On Machine learning with Scikit-Learn\n",
    "    and TensorFlow; p.89\n",
    "    \"\"\"\n",
    "    plt.figure(figsize=(8, 8))\n",
    "    plt.title(\"Precision and Recall Scores as a function of the decision threshold\")\n",
    "    plt.plot(thresholds, precisions[:-1], \"b--\", label=\"Precision\")\n",
    "    plt.plot(thresholds, recalls[:-1], \"g-\", label=\"Recall\")\n",
    "    plt.ylabel(\"Score\")\n",
    "    plt.xlabel(\"Decision Threshold\")\n",
    "    plt.legend(loc='best')"
   ]
  },
  {
   "cell_type": "code",
   "execution_count": 114,
   "id": "7bf5311d",
   "metadata": {},
   "outputs": [
    {
     "data": {
      "image/png": "[encoded data removed]",
      "text/plain": [
       "<Figure size 576x576 with 1 Axes>"
      ]
     },
     "metadata": {
      "needs_background": "light"
     },
     "output_type": "display_data"
    }
   ],
   "source": [
    "plot_precision_recall_vs_threshold(p, r, thresholds)"
   ]
  },
  {
   "cell_type": "code",
   "execution_count": 115,
   "id": "c159f126",
   "metadata": {},
   "outputs": [],
   "source": [
    "def plot_roc_curve(fpr, tpr, label=None):\n",
    "    \"\"\"\n",
    "    The ROC curve, modified from \n",
    "    Hands-On Machine learning with Scikit-Learn and TensorFlow; p.91\n",
    "    \"\"\"\n",
    "    plt.figure(figsize=(8,8))\n",
    "    plt.title('ROC Curve')\n",
    "    plt.plot(fpr, tpr, linewidth=2, label=label)\n",
    "    plt.plot([0, 1], [0, 1], 'k--')\n",
    "    plt.axis([-0.005, 1, 0, 1.005])\n",
    "    plt.xticks(np.arange(0,1, 0.05), rotation=90)\n",
    "    plt.xlabel(\"False Positive Rate\")\n",
    "    plt.ylabel(\"True Positive Rate (Recall)\")\n",
    "    plt.legend(loc='best')"
   ]
  },
  {
   "cell_type": "code",
   "execution_count": 116,
   "id": "82f03592",
   "metadata": {},
   "outputs": [
    {
     "name": "stdout",
     "output_type": "stream",
     "text": [
      "0.7610280636181497\n"
     ]
    },
    {
     "data": {
      "image/png": "[encoded data removed]",
      "text/plain": [
       "<Figure size 576x576 with 1 Axes>"
      ]
     },
     "metadata": {
      "needs_background": "light"
     },
     "output_type": "display_data"
    }
   ],
   "source": [
    "fpr, tpr, auc_thresholds = roc_curve(y_test, y_scores)\n",
    "print(auc(fpr, tpr)) # AUC of ROC\n",
    "plot_roc_curve(fpr, tpr, 'recall_optimized')"
   ]
  },
  {
   "cell_type": "markdown",
   "id": "bdc27f06",
   "metadata": {},
   "source": [
    "Es necesario entender bien el código anterior para explicar conclusiones y poder hacer los plots con plotly"
   ]
  },
  {
   "cell_type": "code",
   "execution_count": 117,
   "id": "8221c1aa",
   "metadata": {},
   "outputs": [],
   "source": [
    "y_pred = grid_search_clf.predict(X_test) "
   ]
  },
  {
   "cell_type": "code",
   "execution_count": 118,
   "id": "f84b3a99",
   "metadata": {},
   "outputs": [
    {
     "data": {
      "application/vnd.plotly.v1+json": {
       "config": {
        "plotlyServerURL": "https://plot.ly"
       },
       "data": [
        {
         "colorscale": [
          [
           0,
           "#00224e"
          ],
          [
           0.1111111111111111,
           "#123570"
          ],
          [
           0.2222222222222222,
           "#3b496c"
          ],
          [
           0.3333333333333333,
           "#575d6d"
          ],
          [
           0.4444444444444444,
           "#707173"
          ],
          [
           0.5555555555555556,
           "#8a8678"
          ],
          [
           0.6666666666666666,
           "#a59c74"
          ],
          [
           0.7777777777777778,
           "#c3b369"
          ],
          [
           0.8888888888888888,
           "#e1cc55"
          ],
          [
           1,
           "#fee838"
          ]
         ],
         "reversescale": false,
         "showscale": false,
         "type": "heatmap",
         "x": [
          "Predicted Not Promoted",
          "Predicted promotions"
         ],
         "y": [
          "True Promoted",
          "True Not Promoted"
         ],
         "z": [
          [
           1364,
           152
          ],
          [
           16570,
           1
          ]
         ]
        }
       ],
       "layout": {
        "annotations": [
         {
          "font": {
           "color": "#FFFFFF"
          },
          "showarrow": false,
          "text": "1364",
          "x": "Predicted Not Promoted",
          "xref": "x",
          "y": "True Promoted",
          "yref": "y"
         },
         {
          "font": {
           "color": "#FFFFFF"
          },
          "showarrow": false,
          "text": "152",
          "x": "Predicted promotions",
          "xref": "x",
          "y": "True Promoted",
          "yref": "y"
         },
         {
          "font": {
           "color": "#000000"
          },
          "showarrow": false,
          "text": "16570",
          "x": "Predicted Not Promoted",
          "xref": "x",
          "y": "True Not Promoted",
          "yref": "y"
         },
         {
          "font": {
           "color": "#FFFFFF"
          },
          "showarrow": false,
          "text": "1",
          "x": "Predicted promotions",
          "xref": "x",
          "y": "True Not Promoted",
          "yref": "y"
         }
        ],
        "template": {
         "data": {
          "bar": [
           {
            "error_x": {
             "color": "#2a3f5f"
            },
            "error_y": {
             "color": "#2a3f5f"
            },
            "marker": {
             "line": {
              "color": "#E5ECF6",
              "width": 0.5
             },
             "pattern": {
              "fillmode": "overlay",
              "size": 10,
              "solidity": 0.2
             }
            },
            "type": "bar"
           }
          ],
          "barpolar": [
           {
            "marker": {
             "line": {
              "color": "#E5ECF6",
              "width": 0.5
             },
             "pattern": {
              "fillmode": "overlay",
              "size": 10,
              "solidity": 0.2
             }
            },
            "type": "barpolar"
           }
          ],
          "carpet": [
           {
            "aaxis": {
             "endlinecolor": "#2a3f5f",
             "gridcolor": "white",
             "linecolor": "white",
             "minorgridcolor": "white",
             "startlinecolor": "#2a3f5f"
            },
            "baxis": {
             "endlinecolor": "#2a3f5f",
             "gridcolor": "white",
             "linecolor": "white",
             "minorgridcolor": "white",
             "startlinecolor": "#2a3f5f"
            },
            "type": "carpet"
           }
          ],
          "choropleth": [
           {
            "colorbar": {
             "outlinewidth": 0,
             "ticks": ""
            },
            "type": "choropleth"
           }
          ],
          "contour": [
           {
            "colorbar": {
             "outlinewidth": 0,
             "ticks": ""
            },
            "colorscale": [
             [
              0,
              "#0d0887"
             ],
             [
              0.1111111111111111,
              "#46039f"
             ],
             [
              0.2222222222222222,
              "#7201a8"
             ],
             [
              0.3333333333333333,
              "#9c179e"
             ],
             [
              0.4444444444444444,
              "#bd3786"
             ],
             [
              0.5555555555555556,
              "#d8576b"
             ],
             [
              0.6666666666666666,
              "#ed7953"
             ],
             [
              0.7777777777777778,
              "#fb9f3a"
             ],
             [
              0.8888888888888888,
              "#fdca26"
             ],
             [
              1,
              "#f0f921"
             ]
            ],
            "type": "contour"
           }
          ],
          "contourcarpet": [
           {
            "colorbar": {
             "outlinewidth": 0,
             "ticks": ""
            },
            "type": "contourcarpet"
           }
          ],
          "heatmap": [
           {
            "colorbar": {
             "outlinewidth": 0,
             "ticks": ""
            },
            "colorscale": [
             [
              0,
              "#0d0887"
             ],
             [
              0.1111111111111111,
              "#46039f"
             ],
             [
              0.2222222222222222,
              "#7201a8"
             ],
             [
              0.3333333333333333,
              "#9c179e"
             ],
             [
              0.4444444444444444,
              "#bd3786"
             ],
             [
              0.5555555555555556,
              "#d8576b"
             ],
             [
              0.6666666666666666,
              "#ed7953"
             ],
             [
              0.7777777777777778,
              "#fb9f3a"
             ],
             [
              0.8888888888888888,
              "#fdca26"
             ],
             [
              1,
              "#f0f921"
             ]
            ],
            "type": "heatmap"
           }
          ],
          "heatmapgl": [
           {
            "colorbar": {
             "outlinewidth": 0,
             "ticks": ""
            },
            "colorscale": [
             [
              0,
              "#0d0887"
             ],
             [
              0.1111111111111111,
              "#46039f"
             ],
             [
              0.2222222222222222,
              "#7201a8"
             ],
             [
              0.3333333333333333,
              "#9c179e"
             ],
             [
              0.4444444444444444,
              "#bd3786"
             ],
             [
              0.5555555555555556,
              "#d8576b"
             ],
             [
              0.6666666666666666,
              "#ed7953"
             ],
             [
              0.7777777777777778,
              "#fb9f3a"
             ],
             [
              0.8888888888888888,
              "#fdca26"
             ],
             [
              1,
              "#f0f921"
             ]
            ],
            "type": "heatmapgl"
           }
          ],
          "histogram": [
           {
            "marker": {
             "pattern": {
              "fillmode": "overlay",
              "size": 10,
              "solidity": 0.2
             }
            },
            "type": "histogram"
           }
          ],
          "histogram2d": [
           {
            "colorbar": {
             "outlinewidth": 0,
             "ticks": ""
            },
            "colorscale": [
             [
              0,
              "#0d0887"
             ],
             [
              0.1111111111111111,
              "#46039f"
             ],
             [
              0.2222222222222222,
              "#7201a8"
             ],
             [
              0.3333333333333333,
              "#9c179e"
             ],
             [
              0.4444444444444444,
              "#bd3786"
             ],
             [
              0.5555555555555556,
              "#d8576b"
             ],
             [
              0.6666666666666666,
              "#ed7953"
             ],
             [
              0.7777777777777778,
              "#fb9f3a"
             ],
             [
              0.8888888888888888,
              "#fdca26"
             ],
             [
              1,
              "#f0f921"
             ]
            ],
            "type": "histogram2d"
           }
          ],
          "histogram2dcontour": [
           {
            "colorbar": {
             "outlinewidth": 0,
             "ticks": ""
            },
            "colorscale": [
             [
              0,
              "#0d0887"
             ],
             [
              0.1111111111111111,
              "#46039f"
             ],
             [
              0.2222222222222222,
              "#7201a8"
             ],
             [
              0.3333333333333333,
              "#9c179e"
             ],
             [
              0.4444444444444444,
              "#bd3786"
             ],
             [
              0.5555555555555556,
              "#d8576b"
             ],
             [
              0.6666666666666666,
              "#ed7953"
             ],
             [
              0.7777777777777778,
              "#fb9f3a"
             ],
             [
              0.8888888888888888,
              "#fdca26"
             ],
             [
              1,
              "#f0f921"
             ]
            ],
            "type": "histogram2dcontour"
           }
          ],
          "mesh3d": [
           {
            "colorbar": {
             "outlinewidth": 0,
             "ticks": ""
            },
            "type": "mesh3d"
           }
          ],
          "parcoords": [
           {
            "line": {
             "colorbar": {
              "outlinewidth": 0,
              "ticks": ""
             }
            },
            "type": "parcoords"
           }
          ],
          "pie": [
           {
            "automargin": true,
            "type": "pie"
           }
          ],
          "scatter": [
           {
            "marker": {
             "colorbar": {
              "outlinewidth": 0,
              "ticks": ""
             }
            },
            "type": "scatter"
           }
          ],
          "scatter3d": [
           {
            "line": {
             "colorbar": {
              "outlinewidth": 0,
              "ticks": ""
             }
            },
            "marker": {
             "colorbar": {
              "outlinewidth": 0,
              "ticks": ""
             }
            },
            "type": "scatter3d"
           }
          ],
          "scattercarpet": [
           {
            "marker": {
             "colorbar": {
              "outlinewidth": 0,
              "ticks": ""
             }
            },
            "type": "scattercarpet"
           }
          ],
          "scattergeo": [
           {
            "marker": {
             "colorbar": {
              "outlinewidth": 0,
              "ticks": ""
             }
            },
            "type": "scattergeo"
           }
          ],
          "scattergl": [
           {
            "marker": {
             "colorbar": {
              "outlinewidth": 0,
              "ticks": ""
             }
            },
            "type": "scattergl"
           }
          ],
          "scattermapbox": [
           {
            "marker": {
             "colorbar": {
              "outlinewidth": 0,
              "ticks": ""
             }
            },
            "type": "scattermapbox"
           }
          ],
          "scatterpolar": [
           {
            "marker": {
             "colorbar": {
              "outlinewidth": 0,
              "ticks": ""
             }
            },
            "type": "scatterpolar"
           }
          ],
          "scatterpolargl": [
           {
            "marker": {
             "colorbar": {
              "outlinewidth": 0,
              "ticks": ""
             }
            },
            "type": "scatterpolargl"
           }
          ],
          "scatterternary": [
           {
            "marker": {
             "colorbar": {
              "outlinewidth": 0,
              "ticks": ""
             }
            },
            "type": "scatterternary"
           }
          ],
          "surface": [
           {
            "colorbar": {
             "outlinewidth": 0,
             "ticks": ""
            },
            "colorscale": [
             [
              0,
              "#0d0887"
             ],
             [
              0.1111111111111111,
              "#46039f"
             ],
             [
              0.2222222222222222,
              "#7201a8"
             ],
             [
              0.3333333333333333,
              "#9c179e"
             ],
             [
              0.4444444444444444,
              "#bd3786"
             ],
             [
              0.5555555555555556,
              "#d8576b"
             ],
             [
              0.6666666666666666,
              "#ed7953"
             ],
             [
              0.7777777777777778,
              "#fb9f3a"
             ],
             [
              0.8888888888888888,
              "#fdca26"
             ],
             [
              1,
              "#f0f921"
             ]
            ],
            "type": "surface"
           }
          ],
          "table": [
           {
            "cells": {
             "fill": {
              "color": "#EBF0F8"
             },
             "line": {
              "color": "white"
             }
            },
            "header": {
             "fill": {
              "color": "#C8D4E3"
             },
             "line": {
              "color": "white"
             }
            },
            "type": "table"
           }
          ]
         },
         "layout": {
          "annotationdefaults": {
           "arrowcolor": "#2a3f5f",
           "arrowhead": 0,
           "arrowwidth": 1
          },
          "autotypenumbers": "strict",
          "coloraxis": {
           "colorbar": {
            "outlinewidth": 0,
            "ticks": ""
           }
          },
          "colorscale": {
           "diverging": [
            [
             0,
             "#8e0152"
            ],
            [
             0.1,
             "#c51b7d"
            ],
            [
             0.2,
             "#de77ae"
            ],
            [
             0.3,
             "#f1b6da"
            ],
            [
             0.4,
             "#fde0ef"
            ],
            [
             0.5,
             "#f7f7f7"
            ],
            [
             0.6,
             "#e6f5d0"
            ],
            [
             0.7,
             "#b8e186"
            ],
            [
             0.8,
             "#7fbc41"
            ],
            [
             0.9,
             "#4d9221"
            ],
            [
             1,
             "#276419"
            ]
           ],
           "sequential": [
            [
             0,
             "#0d0887"
            ],
            [
             0.1111111111111111,
             "#46039f"
            ],
            [
             0.2222222222222222,
             "#7201a8"
            ],
            [
             0.3333333333333333,
             "#9c179e"
            ],
            [
             0.4444444444444444,
             "#bd3786"
            ],
            [
             0.5555555555555556,
             "#d8576b"
            ],
            [
             0.6666666666666666,
             "#ed7953"
            ],
            [
             0.7777777777777778,
             "#fb9f3a"
            ],
            [
             0.8888888888888888,
             "#fdca26"
            ],
            [
             1,
             "#f0f921"
            ]
           ],
           "sequentialminus": [
            [
             0,
             "#0d0887"
            ],
            [
             0.1111111111111111,
             "#46039f"
            ],
            [
             0.2222222222222222,
             "#7201a8"
            ],
            [
             0.3333333333333333,
             "#9c179e"
            ],
            [
             0.4444444444444444,
             "#bd3786"
            ],
            [
             0.5555555555555556,
             "#d8576b"
            ],
            [
             0.6666666666666666,
             "#ed7953"
            ],
            [
             0.7777777777777778,
             "#fb9f3a"
            ],
            [
             0.8888888888888888,
             "#fdca26"
            ],
            [
             1,
             "#f0f921"
            ]
           ]
          },
          "colorway": [
           "#636efa",
           "#EF553B",
           "#00cc96",
           "#ab63fa",
           "#FFA15A",
           "#19d3f3",
           "#FF6692",
           "#B6E880",
           "#FF97FF",
           "#FECB52"
          ],
          "font": {
           "color": "#2a3f5f"
          },
          "geo": {
           "bgcolor": "white",
           "lakecolor": "white",
           "landcolor": "#E5ECF6",
           "showlakes": true,
           "showland": true,
           "subunitcolor": "white"
          },
          "hoverlabel": {
           "align": "left"
          },
          "hovermode": "closest",
          "mapbox": {
           "style": "light"
          },
          "paper_bgcolor": "white",
          "plot_bgcolor": "#E5ECF6",
          "polar": {
           "angularaxis": {
            "gridcolor": "white",
            "linecolor": "white",
            "ticks": ""
           },
           "bgcolor": "#E5ECF6",
           "radialaxis": {
            "gridcolor": "white",
            "linecolor": "white",
            "ticks": ""
           }
          },
          "scene": {
           "xaxis": {
            "backgroundcolor": "#E5ECF6",
            "gridcolor": "white",
            "gridwidth": 2,
            "linecolor": "white",
            "showbackground": true,
            "ticks": "",
            "zerolinecolor": "white"
           },
           "yaxis": {
            "backgroundcolor": "#E5ECF6",
            "gridcolor": "white",
            "gridwidth": 2,
            "linecolor": "white",
            "showbackground": true,
            "ticks": "",
            "zerolinecolor": "white"
           },
           "zaxis": {
            "backgroundcolor": "#E5ECF6",
            "gridcolor": "white",
            "gridwidth": 2,
            "linecolor": "white",
            "showbackground": true,
            "ticks": "",
            "zerolinecolor": "white"
           }
          },
          "shapedefaults": {
           "line": {
            "color": "#2a3f5f"
           }
          },
          "ternary": {
           "aaxis": {
            "gridcolor": "white",
            "linecolor": "white",
            "ticks": ""
           },
           "baxis": {
            "gridcolor": "white",
            "linecolor": "white",
            "ticks": ""
           },
           "bgcolor": "#E5ECF6",
           "caxis": {
            "gridcolor": "white",
            "linecolor": "white",
            "ticks": ""
           }
          },
          "title": {
           "x": 0.05
          },
          "xaxis": {
           "automargin": true,
           "gridcolor": "white",
           "linecolor": "white",
           "ticks": "",
           "title": {
            "standoff": 15
           },
           "zerolinecolor": "white",
           "zerolinewidth": 2
          },
          "yaxis": {
           "automargin": true,
           "gridcolor": "white",
           "linecolor": "white",
           "ticks": "",
           "title": {
            "standoff": 15
           },
           "zerolinecolor": "white",
           "zerolinewidth": 2
          }
         }
        },
        "xaxis": {
         "dtick": 1,
         "gridcolor": "rgb(0, 0, 0)",
         "side": "top",
         "ticks": ""
        },
        "yaxis": {
         "dtick": 1,
         "ticks": "",
         "ticksuffix": "  "
        }
       }
      },
      "text/html": [
       "<div>                            <div id=\"0df8755a-5e01-4731-b3a8-51b654b3ae13\" class=\"plotly-graph-div\" style=\"height:525px; width:100%;\"></div>            <script type=\"text/javascript\">                require([\"plotly\"], function(Plotly) {                    window.PLOTLYENV=window.PLOTLYENV || {};                                    if (document.getElementById(\"0df8755a-5e01-4731-b3a8-51b654b3ae13\")) {                    Plotly.newPlot(                        \"0df8755a-5e01-4731-b3a8-51b654b3ae13\",                        [{\"colorscale\":[[0.0,\"#00224e\"],[0.1111111111111111,\"#123570\"],[0.2222222222222222,\"#3b496c\"],[0.3333333333333333,\"#575d6d\"],[0.4444444444444444,\"#707173\"],[0.5555555555555556,\"#8a8678\"],[0.6666666666666666,\"#a59c74\"],[0.7777777777777778,\"#c3b369\"],[0.8888888888888888,\"#e1cc55\"],[1.0,\"#fee838\"]],\"reversescale\":false,\"showscale\":false,\"type\":\"heatmap\",\"x\":[\"Predicted Not Promoted\",\"Predicted promotions\"],\"y\":[\"True Promoted\",\"True Not Promoted\"],\"z\":[[1364,152],[16570,1]]}],                        {\"annotations\":[{\"font\":{\"color\":\"#FFFFFF\"},\"showarrow\":false,\"text\":\"1364\",\"x\":\"Predicted Not Promoted\",\"xref\":\"x\",\"y\":\"True Promoted\",\"yref\":\"y\"},{\"font\":{\"color\":\"#FFFFFF\"},\"showarrow\":false,\"text\":\"152\",\"x\":\"Predicted promotions\",\"xref\":\"x\",\"y\":\"True Promoted\",\"yref\":\"y\"},{\"font\":{\"color\":\"#000000\"},\"showarrow\":false,\"text\":\"16570\",\"x\":\"Predicted Not Promoted\",\"xref\":\"x\",\"y\":\"True Not Promoted\",\"yref\":\"y\"},{\"font\":{\"color\":\"#FFFFFF\"},\"showarrow\":false,\"text\":\"1\",\"x\":\"Predicted promotions\",\"xref\":\"x\",\"y\":\"True Not Promoted\",\"yref\":\"y\"}],\"template\":{\"data\":{\"bar\":[{\"error_x\":{\"color\":\"#2a3f5f\"},\"error_y\":{\"color\":\"#2a3f5f\"},\"marker\":{\"line\":{\"color\":\"#E5ECF6\",\"width\":0.5},\"pattern\":{\"fillmode\":\"overlay\",\"size\":10,\"solidity\":0.2}},\"type\":\"bar\"}],\"barpolar\":[{\"marker\":{\"line\":{\"color\":\"#E5ECF6\",\"width\":0.5},\"pattern\":{\"fillmode\":\"overlay\",\"size\":10,\"solidity\":0.2}},\"type\":\"barpolar\"}],\"carpet\":[{\"aaxis\":{\"endlinecolor\":\"#2a3f5f\",\"gridcolor\":\"white\",\"linecolor\":\"white\",\"minorgridcolor\":\"white\",\"startlinecolor\":\"#2a3f5f\"},\"baxis\":{\"endlinecolor\":\"#2a3f5f\",\"gridcolor\":\"white\",\"linecolor\":\"white\",\"minorgridcolor\":\"white\",\"startlinecolor\":\"#2a3f5f\"},\"type\":\"carpet\"}],\"choropleth\":[{\"colorbar\":{\"outlinewidth\":0,\"ticks\":\"\"},\"type\":\"choropleth\"}],\"contour\":[{\"colorbar\":{\"outlinewidth\":0,\"ticks\":\"\"},\"colorscale\":[[0.0,\"#0d0887\"],[0.1111111111111111,\"#46039f\"],[0.2222222222222222,\"#7201a8\"],[0.3333333333333333,\"#9c179e\"],[0.4444444444444444,\"#bd3786\"],[0.5555555555555556,\"#d8576b\"],[0.6666666666666666,\"#ed7953\"],[0.7777777777777778,\"#fb9f3a\"],[0.8888888888888888,\"#fdca26\"],[1.0,\"#f0f921\"]],\"type\":\"contour\"}],\"contourcarpet\":[{\"colorbar\":{\"outlinewidth\":0,\"ticks\":\"\"},\"type\":\"contourcarpet\"}],\"heatmap\":[{\"colorbar\":{\"outlinewidth\":0,\"ticks\":\"\"},\"colorscale\":[[0.0,\"#0d0887\"],[0.1111111111111111,\"#46039f\"],[0.2222222222222222,\"#7201a8\"],[0.3333333333333333,\"#9c179e\"],[0.4444444444444444,\"#bd3786\"],[0.5555555555555556,\"#d8576b\"],[0.6666666666666666,\"#ed7953\"],[0.7777777777777778,\"#fb9f3a\"],[0.8888888888888888,\"#fdca26\"],[1.0,\"#f0f921\"]],\"type\":\"heatmap\"}],\"heatmapgl\":[{\"colorbar\":{\"outlinewidth\":0,\"ticks\":\"\"},\"colorscale\":[[0.0,\"#0d0887\"],[0.1111111111111111,\"#46039f\"],[0.2222222222222222,\"#7201a8\"],[0.3333333333333333,\"#9c179e\"],[0.4444444444444444,\"#bd3786\"],[0.5555555555555556,\"#d8576b\"],[0.6666666666666666,\"#ed7953\"],[0.7777777777777778,\"#fb9f3a\"],[0.8888888888888888,\"#fdca26\"],[1.0,\"#f0f921\"]],\"type\":\"heatmapgl\"}],\"histogram\":[{\"marker\":{\"pattern\":{\"fillmode\":\"overlay\",\"size\":10,\"solidity\":0.2}},\"type\":\"histogram\"}],\"histogram2d\":[{\"colorbar\":{\"outlinewidth\":0,\"ticks\":\"\"},\"colorscale\":[[0.0,\"#0d0887\"],[0.1111111111111111,\"#46039f\"],[0.2222222222222222,\"#7201a8\"],[0.3333333333333333,\"#9c179e\"],[0.4444444444444444,\"#bd3786\"],[0.5555555555555556,\"#d8576b\"],[0.6666666666666666,\"#ed7953\"],[0.7777777777777778,\"#fb9f3a\"],[0.8888888888888888,\"#fdca26\"],[1.0,\"#f0f921\"]],\"type\":\"histogram2d\"}],\"histogram2dcontour\":[{\"colorbar\":{\"outlinewidth\":0,\"ticks\":\"\"},\"colorscale\":[[0.0,\"#0d0887\"],[0.1111111111111111,\"#46039f\"],[0.2222222222222222,\"#7201a8\"],[0.3333333333333333,\"#9c179e\"],[0.4444444444444444,\"#bd3786\"],[0.5555555555555556,\"#d8576b\"],[0.6666666666666666,\"#ed7953\"],[0.7777777777777778,\"#fb9f3a\"],[0.8888888888888888,\"#fdca26\"],[1.0,\"#f0f921\"]],\"type\":\"histogram2dcontour\"}],\"mesh3d\":[{\"colorbar\":{\"outlinewidth\":0,\"ticks\":\"\"},\"type\":\"mesh3d\"}],\"parcoords\":[{\"line\":{\"colorbar\":{\"outlinewidth\":0,\"ticks\":\"\"}},\"type\":\"parcoords\"}],\"pie\":[{\"automargin\":true,\"type\":\"pie\"}],\"scatter\":[{\"marker\":{\"colorbar\":{\"outlinewidth\":0,\"ticks\":\"\"}},\"type\":\"scatter\"}],\"scatter3d\":[{\"line\":{\"colorbar\":{\"outlinewidth\":0,\"ticks\":\"\"}},\"marker\":{\"colorbar\":{\"outlinewidth\":0,\"ticks\":\"\"}},\"type\":\"scatter3d\"}],\"scattercarpet\":[{\"marker\":{\"colorbar\":{\"outlinewidth\":0,\"ticks\":\"\"}},\"type\":\"scattercarpet\"}],\"scattergeo\":[{\"marker\":{\"colorbar\":{\"outlinewidth\":0,\"ticks\":\"\"}},\"type\":\"scattergeo\"}],\"scattergl\":[{\"marker\":{\"colorbar\":{\"outlinewidth\":0,\"ticks\":\"\"}},\"type\":\"scattergl\"}],\"scattermapbox\":[{\"marker\":{\"colorbar\":{\"outlinewidth\":0,\"ticks\":\"\"}},\"type\":\"scattermapbox\"}],\"scatterpolar\":[{\"marker\":{\"colorbar\":{\"outlinewidth\":0,\"ticks\":\"\"}},\"type\":\"scatterpolar\"}],\"scatterpolargl\":[{\"marker\":{\"colorbar\":{\"outlinewidth\":0,\"ticks\":\"\"}},\"type\":\"scatterpolargl\"}],\"scatterternary\":[{\"marker\":{\"colorbar\":{\"outlinewidth\":0,\"ticks\":\"\"}},\"type\":\"scatterternary\"}],\"surface\":[{\"colorbar\":{\"outlinewidth\":0,\"ticks\":\"\"},\"colorscale\":[[0.0,\"#0d0887\"],[0.1111111111111111,\"#46039f\"],[0.2222222222222222,\"#7201a8\"],[0.3333333333333333,\"#9c179e\"],[0.4444444444444444,\"#bd3786\"],[0.5555555555555556,\"#d8576b\"],[0.6666666666666666,\"#ed7953\"],[0.7777777777777778,\"#fb9f3a\"],[0.8888888888888888,\"#fdca26\"],[1.0,\"#f0f921\"]],\"type\":\"surface\"}],\"table\":[{\"cells\":{\"fill\":{\"color\":\"#EBF0F8\"},\"line\":{\"color\":\"white\"}},\"header\":{\"fill\":{\"color\":\"#C8D4E3\"},\"line\":{\"color\":\"white\"}},\"type\":\"table\"}]},\"layout\":{\"annotationdefaults\":{\"arrowcolor\":\"#2a3f5f\",\"arrowhead\":0,\"arrowwidth\":1},\"autotypenumbers\":\"strict\",\"coloraxis\":{\"colorbar\":{\"outlinewidth\":0,\"ticks\":\"\"}},\"colorscale\":{\"diverging\":[[0,\"#8e0152\"],[0.1,\"#c51b7d\"],[0.2,\"#de77ae\"],[0.3,\"#f1b6da\"],[0.4,\"#fde0ef\"],[0.5,\"#f7f7f7\"],[0.6,\"#e6f5d0\"],[0.7,\"#b8e186\"],[0.8,\"#7fbc41\"],[0.9,\"#4d9221\"],[1,\"#276419\"]],\"sequential\":[[0.0,\"#0d0887\"],[0.1111111111111111,\"#46039f\"],[0.2222222222222222,\"#7201a8\"],[0.3333333333333333,\"#9c179e\"],[0.4444444444444444,\"#bd3786\"],[0.5555555555555556,\"#d8576b\"],[0.6666666666666666,\"#ed7953\"],[0.7777777777777778,\"#fb9f3a\"],[0.8888888888888888,\"#fdca26\"],[1.0,\"#f0f921\"]],\"sequentialminus\":[[0.0,\"#0d0887\"],[0.1111111111111111,\"#46039f\"],[0.2222222222222222,\"#7201a8\"],[0.3333333333333333,\"#9c179e\"],[0.4444444444444444,\"#bd3786\"],[0.5555555555555556,\"#d8576b\"],[0.6666666666666666,\"#ed7953\"],[0.7777777777777778,\"#fb9f3a\"],[0.8888888888888888,\"#fdca26\"],[1.0,\"#f0f921\"]]},\"colorway\":[\"#636efa\",\"#EF553B\",\"#00cc96\",\"#ab63fa\",\"#FFA15A\",\"#19d3f3\",\"#FF6692\",\"#B6E880\",\"#FF97FF\",\"#FECB52\"],\"font\":{\"color\":\"#2a3f5f\"},\"geo\":{\"bgcolor\":\"white\",\"lakecolor\":\"white\",\"landcolor\":\"#E5ECF6\",\"showlakes\":true,\"showland\":true,\"subunitcolor\":\"white\"},\"hoverlabel\":{\"align\":\"left\"},\"hovermode\":\"closest\",\"mapbox\":{\"style\":\"light\"},\"paper_bgcolor\":\"white\",\"plot_bgcolor\":\"#E5ECF6\",\"polar\":{\"angularaxis\":{\"gridcolor\":\"white\",\"linecolor\":\"white\",\"ticks\":\"\"},\"bgcolor\":\"#E5ECF6\",\"radialaxis\":{\"gridcolor\":\"white\",\"linecolor\":\"white\",\"ticks\":\"\"}},\"scene\":{\"xaxis\":{\"backgroundcolor\":\"#E5ECF6\",\"gridcolor\":\"white\",\"gridwidth\":2,\"linecolor\":\"white\",\"showbackground\":true,\"ticks\":\"\",\"zerolinecolor\":\"white\"},\"yaxis\":{\"backgroundcolor\":\"#E5ECF6\",\"gridcolor\":\"white\",\"gridwidth\":2,\"linecolor\":\"white\",\"showbackground\":true,\"ticks\":\"\",\"zerolinecolor\":\"white\"},\"zaxis\":{\"backgroundcolor\":\"#E5ECF6\",\"gridcolor\":\"white\",\"gridwidth\":2,\"linecolor\":\"white\",\"showbackground\":true,\"ticks\":\"\",\"zerolinecolor\":\"white\"}},\"shapedefaults\":{\"line\":{\"color\":\"#2a3f5f\"}},\"ternary\":{\"aaxis\":{\"gridcolor\":\"white\",\"linecolor\":\"white\",\"ticks\":\"\"},\"baxis\":{\"gridcolor\":\"white\",\"linecolor\":\"white\",\"ticks\":\"\"},\"bgcolor\":\"#E5ECF6\",\"caxis\":{\"gridcolor\":\"white\",\"linecolor\":\"white\",\"ticks\":\"\"}},\"title\":{\"x\":0.05},\"xaxis\":{\"automargin\":true,\"gridcolor\":\"white\",\"linecolor\":\"white\",\"ticks\":\"\",\"title\":{\"standoff\":15},\"zerolinecolor\":\"white\",\"zerolinewidth\":2},\"yaxis\":{\"automargin\":true,\"gridcolor\":\"white\",\"linecolor\":\"white\",\"ticks\":\"\",\"title\":{\"standoff\":15},\"zerolinecolor\":\"white\",\"zerolinewidth\":2}}},\"xaxis\":{\"dtick\":1,\"gridcolor\":\"rgb(0, 0, 0)\",\"side\":\"top\",\"ticks\":\"\"},\"yaxis\":{\"dtick\":1,\"ticks\":\"\",\"ticksuffix\":\"  \"}},                        {\"responsive\": true}                    ).then(function(){\n",
       "                            \n",
       "var gd = document.getElementById('0df8755a-5e01-4731-b3a8-51b654b3ae13');\n",
       "var x = new MutationObserver(function (mutations, observer) {{\n",
       "        var display = window.getComputedStyle(gd).display;\n",
       "        if (!display || display === 'none') {{\n",
       "            console.log([gd, 'removed!']);\n",
       "            Plotly.purge(gd);\n",
       "            observer.disconnect();\n",
       "        }}\n",
       "}});\n",
       "\n",
       "// Listen for the removal of the full notebook cells\n",
       "var notebookContainer = gd.closest('#notebook-container');\n",
       "if (notebookContainer) {{\n",
       "    x.observe(notebookContainer, {childList: true});\n",
       "}}\n",
       "\n",
       "// Listen for the clearing of the current output cell\n",
       "var outputEl = gd.closest('.output');\n",
       "if (outputEl) {{\n",
       "    x.observe(outputEl, {childList: true});\n",
       "}}\n",
       "\n",
       "                        })                };                });            </script>        </div>"
      ]
     },
     "metadata": {},
     "output_type": "display_data"
    }
   ],
   "source": [
    "import plotly.figure_factory as ff\n",
    "z = confusion_matrix(y_test, y_pred)\n",
    "\n",
    "# Reformateo la matriz para que me quede mejor el gráfico\n",
    "z[[0,1],:] = z[[1,0],:]\n",
    "\n",
    "x = ['Predicted Not Promoted', 'Predicted promotions']\n",
    "y = ['True Promoted', 'True Not Promoted']\n",
    "\n",
    "z_text = [[str(y) for y in x] for x in z]\n",
    "\n",
    "heatmap = ff.create_annotated_heatmap(z, x=x, y=y, annotation_text=z_text, colorscale='cividis')\n",
    "\n",
    "heatmap.show()"
   ]
  },
  {
   "cell_type": "markdown",
   "id": "261a1413",
   "metadata": {},
   "source": [
    "# Predicción con una entrada individual"
   ]
  },
  {
   "cell_type": "markdown",
   "id": "7a4a0f91",
   "metadata": {},
   "source": [
    "Se prueba ahora cómo sería la predicción de una entrada individual. Esto se añadirá al dashboard"
   ]
  },
  {
   "cell_type": "code",
   "execution_count": 119,
   "id": "16ae68c9",
   "metadata": {},
   "outputs": [
    {
     "data": {
      "text/html": [
       "<div>\n",
       "<style scoped>\n",
       "    .dataframe tbody tr th:only-of-type {\n",
       "        vertical-align: middle;\n",
       "    }\n",
       "\n",
       "    .dataframe tbody tr th {\n",
       "        vertical-align: top;\n",
       "    }\n",
       "\n",
       "    .dataframe thead th {\n",
       "        text-align: right;\n",
       "    }\n",
       "</style>\n",
       "<table border=\"1\" class=\"dataframe\">\n",
       "  <thead>\n",
       "    <tr style=\"text-align: right;\">\n",
       "      <th></th>\n",
       "      <th>employee_id</th>\n",
       "      <th>department</th>\n",
       "      <th>region</th>\n",
       "      <th>education</th>\n",
       "      <th>gender</th>\n",
       "      <th>recruitment_channel</th>\n",
       "      <th>no_of_trainings</th>\n",
       "      <th>age</th>\n",
       "      <th>previous_year_rating</th>\n",
       "      <th>length_of_service</th>\n",
       "      <th>awards_won</th>\n",
       "      <th>avg_training_score</th>\n",
       "      <th>is_promoted</th>\n",
       "    </tr>\n",
       "  </thead>\n",
       "  <tbody>\n",
       "    <tr>\n",
       "      <th>47235</th>\n",
       "      <td>30698</td>\n",
       "      <td>Sales &amp; Marketing</td>\n",
       "      <td>region_31</td>\n",
       "      <td>NA</td>\n",
       "      <td>m</td>\n",
       "      <td>other</td>\n",
       "      <td>1</td>\n",
       "      <td>24</td>\n",
       "      <td>4.0</td>\n",
       "      <td>2</td>\n",
       "      <td>0</td>\n",
       "      <td>54.0</td>\n",
       "      <td>0</td>\n",
       "    </tr>\n",
       "  </tbody>\n",
       "</table>\n",
       "</div>"
      ],
      "text/plain": [
       "       employee_id         department     region education gender  \\\n",
       "47235        30698  Sales & Marketing  region_31        NA      m   \n",
       "\n",
       "      recruitment_channel  no_of_trainings  age  previous_year_rating  \\\n",
       "47235               other                1   24                   4.0   \n",
       "\n",
       "       length_of_service  awards_won  avg_training_score  is_promoted  \n",
       "47235                  2           0                54.0            0  "
      ]
     },
     "execution_count": 119,
     "metadata": {},
     "output_type": "execute_result"
    }
   ],
   "source": [
    "df_model[(df_model[\"no_of_trainings\"] == 1) &  (df_model[\"age\"] == 24) &  (df_model[\"gender\"] == \"m\") & (df_model[\"previous_year_rating\"] == 4.0) & (df_model[\"length_of_service\"] == 2) & (df_model[\"avg_training_score\"] == 54)]"
   ]
  },
  {
   "cell_type": "code",
   "execution_count": 120,
   "id": "9ca8ed8c",
   "metadata": {},
   "outputs": [
    {
     "data": {
      "text/html": [
       "<div>\n",
       "<style scoped>\n",
       "    .dataframe tbody tr th:only-of-type {\n",
       "        vertical-align: middle;\n",
       "    }\n",
       "\n",
       "    .dataframe tbody tr th {\n",
       "        vertical-align: top;\n",
       "    }\n",
       "\n",
       "    .dataframe thead th {\n",
       "        text-align: right;\n",
       "    }\n",
       "</style>\n",
       "<table border=\"1\" class=\"dataframe\">\n",
       "  <thead>\n",
       "    <tr style=\"text-align: right;\">\n",
       "      <th></th>\n",
       "      <th>employee_id</th>\n",
       "      <th>department</th>\n",
       "      <th>region</th>\n",
       "      <th>education</th>\n",
       "      <th>gender</th>\n",
       "      <th>recruitment_channel</th>\n",
       "      <th>no_of_trainings</th>\n",
       "      <th>age</th>\n",
       "      <th>previous_year_rating</th>\n",
       "      <th>length_of_service</th>\n",
       "      <th>awards_won</th>\n",
       "      <th>avg_training_score</th>\n",
       "      <th>is_promoted</th>\n",
       "    </tr>\n",
       "  </thead>\n",
       "  <tbody>\n",
       "    <tr>\n",
       "      <th>47235</th>\n",
       "      <td>30698</td>\n",
       "      <td>Sales &amp; Marketing</td>\n",
       "      <td>region_31</td>\n",
       "      <td>NA</td>\n",
       "      <td>m</td>\n",
       "      <td>other</td>\n",
       "      <td>1</td>\n",
       "      <td>24</td>\n",
       "      <td>4.0</td>\n",
       "      <td>2</td>\n",
       "      <td>0</td>\n",
       "      <td>54.0</td>\n",
       "      <td>0</td>\n",
       "    </tr>\n",
       "  </tbody>\n",
       "</table>\n",
       "</div>"
      ],
      "text/plain": [
       "       employee_id         department     region education gender  \\\n",
       "47235        30698  Sales & Marketing  region_31        NA      m   \n",
       "\n",
       "      recruitment_channel  no_of_trainings  age  previous_year_rating  \\\n",
       "47235               other                1   24                   4.0   \n",
       "\n",
       "       length_of_service  awards_won  avg_training_score  is_promoted  \n",
       "47235                  2           0                54.0            0  "
      ]
     },
     "execution_count": 120,
     "metadata": {},
     "output_type": "execute_result"
    }
   ],
   "source": [
    "df_model[df_model[\"employee_id\"]==30698]"
   ]
  },
  {
   "cell_type": "markdown",
   "id": "a584486f",
   "metadata": {},
   "source": [
    "Contamos con un registro de un individuo"
   ]
  },
  {
   "cell_type": "code",
   "execution_count": 121,
   "id": "5666891c",
   "metadata": {},
   "outputs": [
    {
     "data": {
      "text/html": [
       "<div>\n",
       "<style scoped>\n",
       "    .dataframe tbody tr th:only-of-type {\n",
       "        vertical-align: middle;\n",
       "    }\n",
       "\n",
       "    .dataframe tbody tr th {\n",
       "        vertical-align: top;\n",
       "    }\n",
       "\n",
       "    .dataframe thead th {\n",
       "        text-align: right;\n",
       "    }\n",
       "</style>\n",
       "<table border=\"1\" class=\"dataframe\">\n",
       "  <thead>\n",
       "    <tr style=\"text-align: right;\">\n",
       "      <th></th>\n",
       "      <th>no_of_trainings</th>\n",
       "      <th>age</th>\n",
       "      <th>previous_year_rating</th>\n",
       "      <th>length_of_service</th>\n",
       "      <th>awards_won</th>\n",
       "      <th>avg_training_score</th>\n",
       "      <th>department_0</th>\n",
       "      <th>department_1</th>\n",
       "      <th>department_2</th>\n",
       "      <th>department_3</th>\n",
       "      <th>...</th>\n",
       "      <th>department_7</th>\n",
       "      <th>department_8</th>\n",
       "      <th>education_0</th>\n",
       "      <th>education_1</th>\n",
       "      <th>education_2</th>\n",
       "      <th>education_3</th>\n",
       "      <th>gender_0</th>\n",
       "      <th>recruitment_channel_0</th>\n",
       "      <th>recruitment_channel_1</th>\n",
       "      <th>recruitment_channel_2</th>\n",
       "    </tr>\n",
       "  </thead>\n",
       "  <tbody>\n",
       "    <tr>\n",
       "      <th>47235</th>\n",
       "      <td>1</td>\n",
       "      <td>24</td>\n",
       "      <td>4.0</td>\n",
       "      <td>2</td>\n",
       "      <td>0</td>\n",
       "      <td>54.0</td>\n",
       "      <td>0</td>\n",
       "      <td>0</td>\n",
       "      <td>0</td>\n",
       "      <td>0</td>\n",
       "      <td>...</td>\n",
       "      <td>1</td>\n",
       "      <td>0</td>\n",
       "      <td>0</td>\n",
       "      <td>0</td>\n",
       "      <td>0</td>\n",
       "      <td>1</td>\n",
       "      <td>1</td>\n",
       "      <td>1</td>\n",
       "      <td>0</td>\n",
       "      <td>0</td>\n",
       "    </tr>\n",
       "  </tbody>\n",
       "</table>\n",
       "<p>1 rows × 23 columns</p>\n",
       "</div>"
      ],
      "text/plain": [
       "       no_of_trainings  age  previous_year_rating  length_of_service  \\\n",
       "47235                1   24                   4.0                  2   \n",
       "\n",
       "       awards_won  avg_training_score  department_0  department_1  \\\n",
       "47235           0                54.0             0             0   \n",
       "\n",
       "       department_2  department_3  ...  department_7  department_8  \\\n",
       "47235             0             0  ...             1             0   \n",
       "\n",
       "       education_0  education_1  education_2  education_3  gender_0  \\\n",
       "47235            0            0            0            1         1   \n",
       "\n",
       "       recruitment_channel_0  recruitment_channel_1  recruitment_channel_2  \n",
       "47235                      1                      0                      0  \n",
       "\n",
       "[1 rows x 23 columns]"
      ]
     },
     "execution_count": 121,
     "metadata": {},
     "output_type": "execute_result"
    }
   ],
   "source": [
    "X_test_pre_transform.head(1)"
   ]
  },
  {
   "cell_type": "markdown",
   "id": "cd1cce88",
   "metadata": {},
   "source": [
    "Este es el registro numérico existente en X_test después de haber pasado por la normalización"
   ]
  },
  {
   "cell_type": "code",
   "execution_count": 122,
   "id": "3859db7a",
   "metadata": {},
   "outputs": [
    {
     "data": {
      "text/plain": [
       "array([-0.41918461, -1.41823987,  0.5720871 , -0.90735651, -0.1567848 ,\n",
       "       -0.72168957, -0.33120613, -0.22018725, -0.21176117, -0.13869044,\n",
       "       -0.51048061, -0.38670784, -0.13444874,  1.49596053, -0.38605617,\n",
       "       -1.42778157, -0.11761011, -0.61107701,  4.68514941,  0.65111971,\n",
       "        0.89544151, -0.14459216, -0.85889253])"
      ]
     },
     "execution_count": 122,
     "metadata": {},
     "output_type": "execute_result"
    }
   ],
   "source": [
    "X_test[0,:]"
   ]
  },
  {
   "cell_type": "markdown",
   "id": "5ba9a1e3",
   "metadata": {},
   "source": [
    "Se obtienen los valores numéricos del registro"
   ]
  },
  {
   "cell_type": "code",
   "execution_count": 123,
   "id": "eedce00b",
   "metadata": {},
   "outputs": [
    {
     "data": {
      "text/plain": [
       "array([ 1., 24.,  4.,  2.,  0., 54.,  0.,  0.,  0.,  0.,  0.,  0.,  0.,\n",
       "        1.,  0.,  0.,  0.,  0.,  1.,  1.,  1.,  0.,  0.])"
      ]
     },
     "execution_count": 123,
     "metadata": {},
     "output_type": "execute_result"
    }
   ],
   "source": [
    "example_registry = X_test_pre_transform.iloc[0,:]\n",
    "example_registry.values"
   ]
  },
  {
   "cell_type": "markdown",
   "id": "5ddd285a",
   "metadata": {},
   "source": [
    "Los ponemos en el formato correcto"
   ]
  },
  {
   "cell_type": "code",
   "execution_count": 124,
   "id": "311982fd",
   "metadata": {},
   "outputs": [
    {
     "data": {
      "text/plain": [
       "(1, 23)"
      ]
     },
     "execution_count": 124,
     "metadata": {},
     "output_type": "execute_result"
    }
   ],
   "source": [
    "example_registry_correct_format = example_registry.values.reshape(1,-1)\n",
    "example_registry_correct_format.shape"
   ]
  },
  {
   "cell_type": "markdown",
   "id": "625c2abc",
   "metadata": {},
   "source": [
    "Se transforman con el escalado correspondiente"
   ]
  },
  {
   "cell_type": "code",
   "execution_count": 125,
   "id": "923fe004",
   "metadata": {},
   "outputs": [
    {
     "data": {
      "text/plain": [
       "array([[-0.41918461, -1.41823987,  0.5720871 , -0.90735651, -0.1567848 ,\n",
       "        -0.72168957, -0.33120613, -0.22018725, -0.21176117, -0.13869044,\n",
       "        -0.51048061, -0.38670784, -0.13444874,  1.49596053, -0.38605617,\n",
       "        -1.42778157, -0.11761011, -0.61107701,  4.68514941,  0.65111971,\n",
       "         0.89544151, -0.14459216, -0.85889253]])"
      ]
     },
     "execution_count": 125,
     "metadata": {},
     "output_type": "execute_result"
    }
   ],
   "source": [
    "example_registry_transformed = sc.transform(example_registry_correct_format)\n",
    "example_registry_transformed"
   ]
  },
  {
   "cell_type": "markdown",
   "id": "b0dcb0ad",
   "metadata": {},
   "source": [
    "Y se hace la predicción con el modelo generado"
   ]
  },
  {
   "cell_type": "code",
   "execution_count": 126,
   "id": "cd878d5d",
   "metadata": {},
   "outputs": [
    {
     "data": {
      "text/plain": [
       "array([0], dtype=int64)"
      ]
     },
     "execution_count": 126,
     "metadata": {},
     "output_type": "execute_result"
    }
   ],
   "source": [
    "example_prediction = grid_search_clf.predict(example_registry_transformed)\n",
    "example_prediction"
   ]
  },
  {
   "cell_type": "markdown",
   "id": "a2c23300",
   "metadata": {},
   "source": [
    "Vemos que el ID `47235` está correctamente identificado como NO PROMOCIONA"
   ]
  },
  {
   "cell_type": "code",
   "execution_count": 127,
   "id": "8299f391",
   "metadata": {},
   "outputs": [
    {
     "data": {
      "text/plain": [
       "47235    0\n",
       "86       0\n",
       "13878    0\n",
       "12473    0\n",
       "53518    0\n",
       "        ..\n",
       "17477    0\n",
       "45174    0\n",
       "53672    0\n",
       "31761    0\n",
       "49165    0\n",
       "Name: is_promoted, Length: 18087, dtype: int64"
      ]
     },
     "execution_count": 127,
     "metadata": {},
     "output_type": "execute_result"
    }
   ],
   "source": [
    "y_test"
   ]
  },
  {
   "cell_type": "code",
   "execution_count": 128,
   "id": "9f2f81a6",
   "metadata": {},
   "outputs": [
    {
     "data": {
      "text/plain": [
       "array([[0.93892142, 0.06107858]])"
      ]
     },
     "execution_count": 128,
     "metadata": {},
     "output_type": "execute_result"
    }
   ],
   "source": [
    "example_prediction_prob = grid_search_clf.predict_proba(example_registry_transformed)\n",
    "example_prediction_prob"
   ]
  },
  {
   "cell_type": "code",
   "execution_count": null,
   "id": "1fe802ad",
   "metadata": {},
   "outputs": [],
   "source": []
  },
  {
   "cell_type": "markdown",
   "id": "d724f3da",
   "metadata": {},
   "source": [
    "# Modelando el caso de uso del dashboard"
   ]
  },
  {
   "cell_type": "code",
   "execution_count": 129,
   "id": "1f12dc12",
   "metadata": {},
   "outputs": [
    {
     "data": {
      "text/html": [
       "<div>\n",
       "<style scoped>\n",
       "    .dataframe tbody tr th:only-of-type {\n",
       "        vertical-align: middle;\n",
       "    }\n",
       "\n",
       "    .dataframe tbody tr th {\n",
       "        vertical-align: top;\n",
       "    }\n",
       "\n",
       "    .dataframe thead th {\n",
       "        text-align: right;\n",
       "    }\n",
       "</style>\n",
       "<table border=\"1\" class=\"dataframe\">\n",
       "  <thead>\n",
       "    <tr style=\"text-align: right;\">\n",
       "      <th></th>\n",
       "      <th>employee_id</th>\n",
       "      <th>department</th>\n",
       "      <th>region</th>\n",
       "      <th>education</th>\n",
       "      <th>gender</th>\n",
       "      <th>recruitment_channel</th>\n",
       "      <th>no_of_trainings</th>\n",
       "      <th>age</th>\n",
       "      <th>previous_year_rating</th>\n",
       "      <th>length_of_service</th>\n",
       "      <th>awards_won</th>\n",
       "      <th>avg_training_score</th>\n",
       "      <th>is_promoted</th>\n",
       "    </tr>\n",
       "  </thead>\n",
       "  <tbody>\n",
       "    <tr>\n",
       "      <th>47235</th>\n",
       "      <td>30698</td>\n",
       "      <td>Sales &amp; Marketing</td>\n",
       "      <td>region_31</td>\n",
       "      <td>NA</td>\n",
       "      <td>m</td>\n",
       "      <td>other</td>\n",
       "      <td>1</td>\n",
       "      <td>24</td>\n",
       "      <td>4.0</td>\n",
       "      <td>2</td>\n",
       "      <td>0</td>\n",
       "      <td>54.0</td>\n",
       "      <td>0</td>\n",
       "    </tr>\n",
       "  </tbody>\n",
       "</table>\n",
       "</div>"
      ],
      "text/plain": [
       "       employee_id         department     region education gender  \\\n",
       "47235        30698  Sales & Marketing  region_31        NA      m   \n",
       "\n",
       "      recruitment_channel  no_of_trainings  age  previous_year_rating  \\\n",
       "47235               other                1   24                   4.0   \n",
       "\n",
       "       length_of_service  awards_won  avg_training_score  is_promoted  \n",
       "47235                  2           0                54.0            0  "
      ]
     },
     "execution_count": 129,
     "metadata": {},
     "output_type": "execute_result"
    }
   ],
   "source": [
    "entrada = df_model[df_model[\"employee_id\"]==30698]\n",
    "entrada"
   ]
  },
  {
   "cell_type": "code",
   "execution_count": 130,
   "id": "bfd6c3f3",
   "metadata": {},
   "outputs": [],
   "source": [
    "no_of_trainings = entrada[\"no_of_trainings\"]\n",
    "age = entrada[\"age\"]\n",
    "length_of_service = entrada[\"length_of_service\"]\n",
    "avg_training_score = entrada[\"avg_training_score\"]\n",
    "awards_won = entrada[\"awards_won\"]\n",
    "genero = entrada[\"gender\"]\n",
    "departamento = entrada[\"department\"]\n",
    "educacion = entrada[\"education\"]\n",
    "recruitment = entrada[\"recruitment_channel\"]\n",
    "previous_year_rating = entrada[\"previous_year_rating\"]"
   ]
  },
  {
   "cell_type": "code",
   "execution_count": 131,
   "id": "e536bce9",
   "metadata": {},
   "outputs": [],
   "source": [
    "no_of_trainings = 1\n",
    "age = 24\n",
    "length_of_service = 2\n",
    "avg_training_score = 54.0\n",
    "awards_won = 0\n",
    "genero = \"m\"\n",
    "departamento = \"Sales & Marketing\"\n",
    "educacion = \"NA\"\n",
    "recruitment = \"other\"\n",
    "previous_year_rating = 4.0"
   ]
  },
  {
   "cell_type": "markdown",
   "id": "ee1e42cb",
   "metadata": {},
   "source": [
    "Lo tenemos que transformar en:"
   ]
  },
  {
   "cell_type": "code",
   "execution_count": 132,
   "id": "2cf0ff34",
   "metadata": {},
   "outputs": [
    {
     "data": {
      "text/html": [
       "<div>\n",
       "<style scoped>\n",
       "    .dataframe tbody tr th:only-of-type {\n",
       "        vertical-align: middle;\n",
       "    }\n",
       "\n",
       "    .dataframe tbody tr th {\n",
       "        vertical-align: top;\n",
       "    }\n",
       "\n",
       "    .dataframe thead th {\n",
       "        text-align: right;\n",
       "    }\n",
       "</style>\n",
       "<table border=\"1\" class=\"dataframe\">\n",
       "  <thead>\n",
       "    <tr style=\"text-align: right;\">\n",
       "      <th></th>\n",
       "      <th>no_of_trainings</th>\n",
       "      <th>age</th>\n",
       "      <th>previous_year_rating</th>\n",
       "      <th>length_of_service</th>\n",
       "      <th>awards_won</th>\n",
       "      <th>avg_training_score</th>\n",
       "      <th>department_0</th>\n",
       "      <th>department_1</th>\n",
       "      <th>department_2</th>\n",
       "      <th>department_3</th>\n",
       "      <th>...</th>\n",
       "      <th>department_7</th>\n",
       "      <th>department_8</th>\n",
       "      <th>education_0</th>\n",
       "      <th>education_1</th>\n",
       "      <th>education_2</th>\n",
       "      <th>education_3</th>\n",
       "      <th>gender_0</th>\n",
       "      <th>recruitment_channel_0</th>\n",
       "      <th>recruitment_channel_1</th>\n",
       "      <th>recruitment_channel_2</th>\n",
       "    </tr>\n",
       "  </thead>\n",
       "  <tbody>\n",
       "    <tr>\n",
       "      <th>47235</th>\n",
       "      <td>1</td>\n",
       "      <td>24</td>\n",
       "      <td>4.0</td>\n",
       "      <td>2</td>\n",
       "      <td>0</td>\n",
       "      <td>54.0</td>\n",
       "      <td>0</td>\n",
       "      <td>0</td>\n",
       "      <td>0</td>\n",
       "      <td>0</td>\n",
       "      <td>...</td>\n",
       "      <td>1</td>\n",
       "      <td>0</td>\n",
       "      <td>0</td>\n",
       "      <td>0</td>\n",
       "      <td>0</td>\n",
       "      <td>1</td>\n",
       "      <td>1</td>\n",
       "      <td>1</td>\n",
       "      <td>0</td>\n",
       "      <td>0</td>\n",
       "    </tr>\n",
       "  </tbody>\n",
       "</table>\n",
       "<p>1 rows × 23 columns</p>\n",
       "</div>"
      ],
      "text/plain": [
       "       no_of_trainings  age  previous_year_rating  length_of_service  \\\n",
       "47235                1   24                   4.0                  2   \n",
       "\n",
       "       awards_won  avg_training_score  department_0  department_1  \\\n",
       "47235           0                54.0             0             0   \n",
       "\n",
       "       department_2  department_3  ...  department_7  department_8  \\\n",
       "47235             0             0  ...             1             0   \n",
       "\n",
       "       education_0  education_1  education_2  education_3  gender_0  \\\n",
       "47235            0            0            0            1         1   \n",
       "\n",
       "       recruitment_channel_0  recruitment_channel_1  recruitment_channel_2  \n",
       "47235                      1                      0                      0  \n",
       "\n",
       "[1 rows x 23 columns]"
      ]
     },
     "execution_count": 132,
     "metadata": {},
     "output_type": "execute_result"
    }
   ],
   "source": [
    "X_test_pre_transform.head(1)"
   ]
  },
  {
   "cell_type": "code",
   "execution_count": 133,
   "id": "7af614e8",
   "metadata": {},
   "outputs": [],
   "source": [
    "sc = load('../data/standard_scaler_modelos.joblib')\n",
    "encoder_department = load('../data/encoder_variable_department.joblib')\n",
    "encoder_education = load('../data/encoder_variable_education.joblib')\n",
    "encoder_gender = load('../data/encoder_variable_gender.joblib')\n",
    "encoder_recruitment_channel = load(\n",
    "    '../data/encoder_variable_recruitment_channel.joblib')"
   ]
  },
  {
   "cell_type": "code",
   "execution_count": 134,
   "id": "346be910",
   "metadata": {},
   "outputs": [
    {
     "data": {
      "text/plain": [
       "array([[0, 0, 0, 0, 0, 0, 0, 1, 0]])"
      ]
     },
     "execution_count": 134,
     "metadata": {},
     "output_type": "execute_result"
    }
   ],
   "source": [
    "department_encoded = encoder_department.transform([departamento])\n",
    "department_encoded"
   ]
  },
  {
   "cell_type": "code",
   "execution_count": 135,
   "id": "aa414a50",
   "metadata": {},
   "outputs": [
    {
     "data": {
      "text/plain": [
       "array([0, 0, 0, 1])"
      ]
     },
     "execution_count": 135,
     "metadata": {},
     "output_type": "execute_result"
    }
   ],
   "source": [
    "education_encoded = encoder_education.transform([educacion])\n",
    "education_encoded.flatten()"
   ]
  },
  {
   "cell_type": "code",
   "execution_count": 136,
   "id": "20c76d8e",
   "metadata": {},
   "outputs": [
    {
     "data": {
      "text/plain": [
       "array([[1]])"
      ]
     },
     "execution_count": 136,
     "metadata": {},
     "output_type": "execute_result"
    }
   ],
   "source": [
    "gender_encoded = encoder_gender.transform([genero])\n",
    "gender_encoded"
   ]
  },
  {
   "cell_type": "code",
   "execution_count": 137,
   "id": "9ded5c6e",
   "metadata": {},
   "outputs": [
    {
     "data": {
      "text/plain": [
       "array([[1, 0, 0]])"
      ]
     },
     "execution_count": 137,
     "metadata": {},
     "output_type": "execute_result"
    }
   ],
   "source": [
    "recruitment_encoded = encoder_recruitment_channel.transform([recruitment])\n",
    "recruitment_encoded"
   ]
  },
  {
   "cell_type": "code",
   "execution_count": 138,
   "id": "155906a7",
   "metadata": {},
   "outputs": [],
   "source": [
    "encoded_entry = np.concatenate(([no_of_trainings, age, previous_year_rating, length_of_service, awards_won, avg_training_score], department_encoded.flatten(), education_encoded.flatten(), gender_encoded.flatten(), recruitment_encoded.flatten()))"
   ]
  },
  {
   "cell_type": "code",
   "execution_count": 139,
   "id": "e3f2261a",
   "metadata": {},
   "outputs": [
    {
     "data": {
      "text/plain": [
       "array([ 1., 24.,  4.,  2.,  0., 54.,  0.,  0.,  0.,  0.,  0.,  0.,  0.,\n",
       "        1.,  0.,  0.,  0.,  0.,  1.,  1.,  1.,  0.,  0.])"
      ]
     },
     "execution_count": 139,
     "metadata": {},
     "output_type": "execute_result"
    }
   ],
   "source": [
    "encoded_entry"
   ]
  },
  {
   "cell_type": "code",
   "execution_count": 140,
   "id": "9e3bbec9",
   "metadata": {},
   "outputs": [
    {
     "data": {
      "text/plain": [
       "array([[-0.41918461, -1.41823987,  0.5720871 , -0.90735651, -0.1567848 ,\n",
       "        -0.72168957, -0.33120613, -0.22018725, -0.21176117, -0.13869044,\n",
       "        -0.51048061, -0.38670784, -0.13444874,  1.49596053, -0.38605617,\n",
       "        -1.42778157, -0.11761011, -0.61107701,  4.68514941,  0.65111971,\n",
       "         0.89544151, -0.14459216, -0.85889253]])"
      ]
     },
     "execution_count": 140,
     "metadata": {},
     "output_type": "execute_result"
    }
   ],
   "source": [
    "scaled_entry = sc.transform(encoded_entry.reshape(1,-1))\n",
    "scaled_entry"
   ]
  },
  {
   "cell_type": "markdown",
   "id": "ee49690a",
   "metadata": {},
   "source": [
    "Comprobamos con el resultado de arriba para comprobar que todo ha salido correctamente"
   ]
  },
  {
   "cell_type": "code",
   "execution_count": 141,
   "id": "8cd062d1",
   "metadata": {},
   "outputs": [
    {
     "data": {
      "text/plain": [
       "array([[0., 0., 0., 0., 0., 0., 0., 0., 0., 0., 0., 0., 0., 0., 0., 0.,\n",
       "        0., 0., 0., 0., 0., 0., 0.]])"
      ]
     },
     "execution_count": 141,
     "metadata": {},
     "output_type": "execute_result"
    }
   ],
   "source": [
    "scaled_entry - example_registry_transformed"
   ]
  },
  {
   "cell_type": "markdown",
   "id": "53a57644",
   "metadata": {},
   "source": [
    "OK!"
   ]
  },
  {
   "cell_type": "code",
   "execution_count": 142,
   "id": "cf563d3d",
   "metadata": {},
   "outputs": [],
   "source": [
    "prediction = grid_search_clf.predict(scaled_entry)"
   ]
  },
  {
   "cell_type": "code",
   "execution_count": 143,
   "id": "fc90acf3",
   "metadata": {},
   "outputs": [],
   "source": [
    "probability = grid_search_clf.predict_proba(scaled_entry)"
   ]
  },
  {
   "cell_type": "code",
   "execution_count": 144,
   "id": "f890649b",
   "metadata": {},
   "outputs": [
    {
     "data": {
      "text/plain": [
       "0"
      ]
     },
     "execution_count": 144,
     "metadata": {},
     "output_type": "execute_result"
    }
   ],
   "source": [
    "prediction[0]"
   ]
  },
  {
   "cell_type": "code",
   "execution_count": 145,
   "id": "5f963c4d",
   "metadata": {},
   "outputs": [
    {
     "data": {
      "text/plain": [
       "0.06107857687410685"
      ]
     },
     "execution_count": 145,
     "metadata": {},
     "output_type": "execute_result"
    }
   ],
   "source": [
    "probability[0][1].astype(float)"
   ]
  },
  {
   "cell_type": "code",
   "execution_count": 146,
   "id": "9fa5d674",
   "metadata": {},
   "outputs": [
    {
     "data": {
      "text/plain": [
       "array([[0.93892142, 0.06107858]])"
      ]
     },
     "execution_count": 146,
     "metadata": {},
     "output_type": "execute_result"
    }
   ],
   "source": [
    "probability"
   ]
  },
  {
   "cell_type": "code",
   "execution_count": 147,
   "id": "5d16ddb3",
   "metadata": {},
   "outputs": [
    {
     "data": {
      "text/plain": [
       "0.06"
      ]
     },
     "execution_count": 147,
     "metadata": {},
     "output_type": "execute_result"
    }
   ],
   "source": [
    "round(probability[0][1].astype(float),2)"
   ]
  },
  {
   "cell_type": "code",
   "execution_count": 148,
   "id": "51ad34f1",
   "metadata": {},
   "outputs": [
    {
     "data": {
      "text/plain": [
       "0.06107857687410685"
      ]
     },
     "execution_count": 148,
     "metadata": {},
     "output_type": "execute_result"
    }
   ],
   "source": [
    "float(probability[0][1])"
   ]
  },
  {
   "cell_type": "code",
   "execution_count": null,
   "id": "adcdf2f9",
   "metadata": {},
   "outputs": [],
   "source": []
  }
 ],
 "metadata": {
  "interpreter": {
   "hash": "0600588c3b5f4418cbe7b5ebc6825b479f3bc010269d8b60d75058cdd010adfe"
  },
  "kernelspec": {
   "display_name": "Python 3 (ipykernel)",
   "language": "python",
   "name": "python3"
  },
  "language_info": {
   "codemirror_mode": {
    "name": "ipython",
    "version": 3
   },
   "file_extension": ".py",
   "mimetype": "text/x-python",
   "name": "python",
   "nbconvert_exporter": "python",
   "pygments_lexer": "ipython3",
   "version": "3.7.8rc1"
  }
 },
 "nbformat": 4,
 "nbformat_minor": 5
}
