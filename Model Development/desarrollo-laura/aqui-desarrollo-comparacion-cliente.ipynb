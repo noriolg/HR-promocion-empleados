{
 "cells": [
  {
   "cell_type": "markdown",
   "id": "d539af5f",
   "metadata": {},
   "source": [
    "En este notebook para desarrollar la comparación de una persona con el resto de empleados"
   ]
  },
  {
   "cell_type": "code",
   "execution_count": null,
   "id": "b290c6ea",
   "metadata": {},
   "outputs": [],
   "source": []
  }
 ],
 "metadata": {
  "kernelspec": {
   "display_name": "Python 3 (ipykernel)",
   "language": "python",
   "name": "python3"
  },
  "language_info": {
   "codemirror_mode": {
    "name": "ipython",
    "version": 3
   },
   "file_extension": ".py",
   "mimetype": "text/x-python",
   "name": "python",
   "nbconvert_exporter": "python",
   "pygments_lexer": "ipython3",
   "version": "3.7.8rc1"
  }
 },
 "nbformat": 4,
 "nbformat_minor": 5
}
